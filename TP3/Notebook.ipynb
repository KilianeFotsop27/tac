{
 "cells": [
  {
   "cell_type": "code",
   "execution_count": 1,
   "metadata": {},
   "outputs": [],
   "source": [
    "#Importation des librairies\n",
    "import collections\n",
    "import os\n",
    "import string\n",
    "import sys\n",
    "\n",
    "import pandas as pd\n",
    "from nltk import word_tokenize\n",
    "from nltk.corpus import stopwords\n",
    "from pprint import pprint\n",
    "from sklearn.cluster import KMeans\n",
    "from sklearn.feature_extraction.text import TfidfVectorizer\n",
    "from sklearn.decomposition import PCA\n",
    "import numpy as np\n",
    "import matplotlib.pyplot as plt\n",
    "from scipy.spatial.distance import cosine"
   ]
  },
  {
   "cell_type": "code",
   "execution_count": 2,
   "metadata": {},
   "outputs": [
    {
     "name": "stderr",
     "output_type": "stream",
     "text": [
      "[nltk_data] Downloading package punkt to\n",
      "[nltk_data]     C:\\Users\\Kilia\\AppData\\Roaming\\nltk_data...\n",
      "[nltk_data]   Package punkt is already up-to-date!\n"
     ]
    },
    {
     "data": {
      "text/plain": [
       "True"
      ]
     },
     "execution_count": 2,
     "metadata": {},
     "output_type": "execute_result"
    }
   ],
   "source": [
    "import nltk\n",
    "\n",
    "nltk.download('punkt')"
   ]
  },
  {
   "cell_type": "code",
   "execution_count": 4,
   "metadata": {},
   "outputs": [],
   "source": [
    "data_path = \"../data/txt/\""
   ]
  },
  {
   "cell_type": "code",
   "execution_count": 9,
   "metadata": {},
   "outputs": [],
   "source": [
    "#choisir une décénie\n",
    "DECADE = '1880'"
   ]
  },
  {
   "cell_type": "code",
   "execution_count": 10,
   "metadata": {},
   "outputs": [],
   "source": [
    "#créer une liste de textes de  tous les fichiers de la décénie 1860\n",
    "files = [f for f in sorted(os.listdir(data_path)) if f\"_{DECADE[:-1]}\" in f]"
   ]
  },
  {
   "cell_type": "code",
   "execution_count": 11,
   "metadata": {},
   "outputs": [
    {
     "data": {
      "text/plain": [
       "['KB_JB838_1887-12-22_01-00001.txt',\n",
       " 'KB_JB838_1887-12-22_01-00002.txt',\n",
       " 'KB_JB838_1887-12-22_01-00003.txt',\n",
       " 'KB_JB838_1887-12-22_01-00004.txt',\n",
       " 'KB_JB838_1887-12-22_01-00005.txt']"
      ]
     },
     "execution_count": 11,
     "metadata": {},
     "output_type": "execute_result"
    }
   ],
   "source": [
    "# Exemple de fichiers\n",
    "files[:5]"
   ]
  },
  {
   "cell_type": "code",
   "execution_count": 12,
   "metadata": {},
   "outputs": [],
   "source": [
    "texts = [open(data_path + f, \"r\", encoding=\"utf-8\").read() for f in files]"
   ]
  },
  {
   "cell_type": "code",
   "execution_count": 13,
   "metadata": {},
   "outputs": [
    {
     "data": {
      "text/plain": [
       "'ræge quotidien J00 EXEMPLAIRES distribués gratuitement ■ k . ‘ dans ilàgg;lomération bruxelloise et.en province. ï personnes habitant aux étages fenile journal contre 60 c“« par mois. fSpir est expédié en proyinôe contre t*»\"par mois, payables par trimestre. annonces, faits divers et réclames sjont reçu frie d’Isabelle ; à l’AGENCE ROSSFJl. 44. -v , et do l’Enseignement, à BraxelL annonces remises'"
      ]
     },
     "execution_count": 13,
     "metadata": {},
     "output_type": "execute_result"
    }
   ],
   "source": [
    "# Exemple de textes\n",
    "texts[0][:400]"
   ]
  },
  {
   "cell_type": "markdown",
   "metadata": {},
   "source": [
    "## Vectoriser les documents à l'aide de TF-IDF"
   ]
  },
  {
   "cell_type": "code",
   "execution_count": 15,
   "metadata": {},
   "outputs": [],
   "source": [
    "# Création d'une fonction de pré-traitement\n",
    "def preprocessing(text, stem=True):\n",
    "    \"\"\" Tokenize text and remove punctuation \"\"\"\n",
    "    text = text.translate(string.punctuation)\n",
    "    tokens = word_tokenize(text)\n",
    "    return tokens"
   ]
  },
  {
   "cell_type": "markdown",
   "metadata": {},
   "source": [
    "### Instancier le modèle TF-IDF avec ses arguments"
   ]
  },
  {
   "cell_type": "code",
   "execution_count": 16,
   "metadata": {},
   "outputs": [],
   "source": [
    "vectorizer = TfidfVectorizer(\n",
    "    tokenizer=preprocessing,\n",
    "    stop_words=stopwords.words('french'),\n",
    "    max_df=0.5,\n",
    "    min_df=0.1,\n",
    "    lowercase=True)"
   ]
  },
  {
   "cell_type": "code",
   "execution_count": 17,
   "metadata": {},
   "outputs": [],
   "source": [
    "# Construire la matrice de vecteurs à l'aide de la fonction `fit_transform`\n",
    "tfidf_vectors = vectorizer.fit_transform(texts)"
   ]
  },
  {
   "cell_type": "code",
   "execution_count": 18,
   "metadata": {},
   "outputs": [
    {
     "data": {
      "text/plain": [
       "(236, 2751)"
      ]
     },
     "execution_count": 18,
     "metadata": {},
     "output_type": "execute_result"
    }
   ],
   "source": [
    "# Détail de la matrice\n",
    "tfidf_vectors.shape"
   ]
  },
  {
   "cell_type": "code",
   "execution_count": 19,
   "metadata": {},
   "outputs": [
    {
     "data": {
      "text/plain": [
       "commis       0.173980\n",
       "capitaine    0.147061\n",
       "uno          0.147036\n",
       "décembre     0.141962\n",
       "langues      0.138614\n",
       "               ...   \n",
       "engager      0.000000\n",
       "enlevé       0.000000\n",
       "enquête      0.000000\n",
       "ensemble     0.000000\n",
       "juillet      0.000000\n",
       "Length: 2751, dtype: float64"
      ]
     },
     "execution_count": 19,
     "metadata": {},
     "output_type": "execute_result"
    }
   ],
   "source": [
    "# Imprimer le vecteur tf-IDF du premier document\n",
    "pd.Series(\n",
    "    tfidf_vectors[0].toarray()[0],\n",
    "    index=vectorizer.get_feature_names_out()\n",
    "    ).sort_values(ascending=False)"
   ]
  },
  {
   "cell_type": "code",
   "execution_count": 20,
   "metadata": {},
   "outputs": [],
   "source": [
    "# Observer les distances entre quelques vecteurs de nos documents\n",
    "tfidf_array = tfidf_vectors.toarray()"
   ]
  },
  {
   "cell_type": "code",
   "execution_count": 21,
   "metadata": {},
   "outputs": [
    {
     "data": {
      "text/plain": [
       "array([0.        , 0.        , 0.02657873, ..., 0.        , 0.03803381,\n",
       "       0.03604103])"
      ]
     },
     "execution_count": 21,
     "metadata": {},
     "output_type": "execute_result"
    }
   ],
   "source": [
    "# Vecteur du document 0\n",
    "tfidf_array[0]"
   ]
  },
  {
   "cell_type": "code",
   "execution_count": 22,
   "metadata": {},
   "outputs": [
    {
     "data": {
      "text/plain": [
       "array([0.        , 0.        , 0.02161775, ..., 0.        , 0.03093471,\n",
       "       0.        ])"
      ]
     },
     "execution_count": 22,
     "metadata": {},
     "output_type": "execute_result"
    }
   ],
   "source": [
    "# Vecteur du document 1\n",
    "tfidf_array[1]"
   ]
  },
  {
   "cell_type": "code",
   "execution_count": 24,
   "metadata": {},
   "outputs": [
    {
     "data": {
      "text/plain": [
       "array([0.        , 0.        , 0.        , ..., 0.        , 0.        ,\n",
       "       0.01069914])"
      ]
     },
     "execution_count": 24,
     "metadata": {},
     "output_type": "execute_result"
    }
   ],
   "source": [
    "# Vecteur du document 2\n",
    "tfidf_array[2]"
   ]
  },
  {
   "cell_type": "code",
   "execution_count": 25,
   "metadata": {},
   "outputs": [
    {
     "data": {
      "text/plain": [
       "array([0.       , 0.0594173, 0.       , ..., 0.       , 0.       ,\n",
       "       0.       ])"
      ]
     },
     "execution_count": 25,
     "metadata": {},
     "output_type": "execute_result"
    }
   ],
   "source": [
    "# Vecteur du document 3\n",
    "tfidf_array[3]"
   ]
  },
  {
   "cell_type": "code",
   "execution_count": 23,
   "metadata": {},
   "outputs": [
    {
     "data": {
      "text/plain": [
       "0.7179300466038534"
      ]
     },
     "execution_count": 23,
     "metadata": {},
     "output_type": "execute_result"
    }
   ],
   "source": [
    "cosine(tfidf_array[0], tfidf_array[1])"
   ]
  },
  {
   "cell_type": "code",
   "execution_count": 26,
   "metadata": {},
   "outputs": [
    {
     "data": {
      "text/plain": [
       "0.9511133965333436"
      ]
     },
     "execution_count": 26,
     "metadata": {},
     "output_type": "execute_result"
    }
   ],
   "source": [
    "cosine(tfidf_array[2], tfidf_array[3])"
   ]
  },
  {
   "cell_type": "markdown",
   "metadata": {},
   "source": [
    "## Appliquer Un algorithme de Clustering sur les vecteurs TF-IDF des documents"
   ]
  },
  {
   "cell_type": "code",
   "execution_count": 37,
   "metadata": {},
   "outputs": [],
   "source": [
    "#Définir un nombre de Clusterings \n",
    "N_CLUSTERS = 2"
   ]
  },
  {
   "cell_type": "code",
   "execution_count": 38,
   "metadata": {},
   "outputs": [],
   "source": [
    "# Instancier le modèle K-Means et ses arguments\n",
    "km_model = KMeans(n_clusters=N_CLUSTERS)"
   ]
  },
  {
   "cell_type": "code",
   "execution_count": 39,
   "metadata": {},
   "outputs": [],
   "source": [
    "# Appliquer le clustering à l'aide de la fonction `fit_predict`"
   ]
  },
  {
   "cell_type": "code",
   "execution_count": 40,
   "metadata": {},
   "outputs": [],
   "source": [
    "clusters = km_model.fit_predict(tfidf_vectors)"
   ]
  },
  {
   "cell_type": "code",
   "execution_count": 41,
   "metadata": {},
   "outputs": [],
   "source": [
    "clustering = collections.defaultdict(list)\n",
    "\n",
    "for idx, label in enumerate(clusters):\n",
    "    clustering[label].append(files[idx])"
   ]
  },
  {
   "cell_type": "code",
   "execution_count": 42,
   "metadata": {},
   "outputs": [
    {
     "name": "stdout",
     "output_type": "stream",
     "text": [
      "{0: ['KB_JB838_1887-12-22_01-00001.txt',\n",
      "     'KB_JB838_1887-12-22_01-00002.txt',\n",
      "     'KB_JB838_1887-12-22_01-00003.txt',\n",
      "     'KB_JB838_1887-12-22_01-00006.txt',\n",
      "     'KB_JB838_1887-12-23_01-00001.txt',\n",
      "     'KB_JB838_1887-12-23_01-00002.txt',\n",
      "     'KB_JB838_1887-12-24_01-00001.txt',\n",
      "     'KB_JB838_1887-12-24_01-00002.txt',\n",
      "     'KB_JB838_1887-12-25_01-00001.txt',\n",
      "     'KB_JB838_1887-12-25_01-00002.txt',\n",
      "     'KB_JB838_1887-12-25_01-00003.txt',\n",
      "     'KB_JB838_1887-12-26_01-00001.txt',\n",
      "     'KB_JB838_1887-12-26_01-00002.txt',\n",
      "     'KB_JB838_1887-12-26_01-00003.txt',\n",
      "     'KB_JB838_1887-12-28_01-00001.txt',\n",
      "     'KB_JB838_1887-12-28_01-00002.txt',\n",
      "     'KB_JB838_1887-12-28_01-00003.txt',\n",
      "     'KB_JB838_1887-12-29_01-00001.txt',\n",
      "     'KB_JB838_1887-12-29_01-00002.txt',\n",
      "     'KB_JB838_1887-12-29_01-00003.txt',\n",
      "     'KB_JB838_1887-12-30_01-00001.txt',\n",
      "     'KB_JB838_1887-12-30_01-00002.txt',\n",
      "     'KB_JB838_1887-12-30_01-00003.txt',\n",
      "     'KB_JB838_1887-12-31_01-00001.txt',\n",
      "     'KB_JB838_1887-12-31_01-00002.txt',\n",
      "     'KB_JB838_1887-12-31_01-00003.txt',\n",
      "     'KB_JB838_1888-01-02_01-00003.txt',\n",
      "     'KB_JB838_1888-01-05_01-00002.txt',\n",
      "     'KB_JB838_1888-01-08_01-00002.txt',\n",
      "     'KB_JB838_1888-01-12_01-00001.txt',\n",
      "     'KB_JB838_1888-01-16_01-00003.txt',\n",
      "     'KB_JB838_1888-01-20_01-00002.txt',\n",
      "     'KB_JB838_1888-01-21_01-00002.txt',\n",
      "     'KB_JB838_1888-01-26_01-00002.txt',\n",
      "     'KB_JB838_1888-01-29_01-00001.txt',\n",
      "     'KB_JB838_1888-02-05_01-00001.txt',\n",
      "     'KB_JB838_1888-02-07_01-00001.txt',\n",
      "     'KB_JB838_1888-02-11_01-00001.txt',\n",
      "     'KB_JB838_1888-02-12_01-00001.txt',\n",
      "     'KB_JB838_1888-02-13_01-00003.txt',\n",
      "     'KB_JB838_1888-02-15_01-00002.txt',\n",
      "     'KB_JB838_1888-02-23_01-00002.txt',\n",
      "     'KB_JB838_1888-02-25_01-00001.txt',\n",
      "     'KB_JB838_1888-03-02_01-00001.txt',\n",
      "     'KB_JB838_1888-03-14_01-00001.txt',\n",
      "     'KB_JB838_1888-03-16_01-00001.txt',\n",
      "     'KB_JB838_1888-03-19_01-00001.txt',\n",
      "     'KB_JB838_1888-03-22_01-00003.txt',\n",
      "     'KB_JB838_1888-04-01_01-00001.txt',\n",
      "     'KB_JB838_1888-04-01_01-00003.txt',\n",
      "     'KB_JB838_1888-04-05_01-00001.txt',\n",
      "     'KB_JB838_1888-04-06_01-00001.txt',\n",
      "     'KB_JB838_1888-04-08_01-00003.txt',\n",
      "     'KB_JB838_1888-04-18_01-00002.txt',\n",
      "     'KB_JB838_1888-04-19_01-00002.txt',\n",
      "     'KB_JB838_1888-04-22_01-00002.txt',\n",
      "     'KB_JB838_1888-04-28_01-00002.txt',\n",
      "     'KB_JB838_1888-05-01_01-00001.txt',\n",
      "     'KB_JB838_1888-05-04_01-00001.txt',\n",
      "     'KB_JB838_1888-05-07_01-00003.txt',\n",
      "     'KB_JB838_1888-05-15_01-00003.txt',\n",
      "     'KB_JB838_1888-05-18_01-00003.txt',\n",
      "     'KB_JB838_1888-05-24_01-00002.txt',\n",
      "     'KB_JB838_1888-06-20_01-00001.txt',\n",
      "     'KB_JB838_1888-06-21_01-00003.txt',\n",
      "     'KB_JB838_1888-06-22_01-00002.txt',\n",
      "     'KB_JB838_1888-06-30_01-00003.txt',\n",
      "     'KB_JB838_1888-07-01_01-00003.txt',\n",
      "     'KB_JB838_1888-07-08_01-00001.txt',\n",
      "     'KB_JB838_1888-07-15_01-00002.txt',\n",
      "     'KB_JB838_1888-07-28_01-00003.txt',\n",
      "     'KB_JB838_1888-08-22_01-00001.txt',\n",
      "     'KB_JB838_1888-08-23_01-00001.txt',\n",
      "     'KB_JB838_1888-08-28_01-00003.txt',\n",
      "     'KB_JB838_1888-08-29_01-00002.txt',\n",
      "     'KB_JB838_1888-09-01_01-00001.txt',\n",
      "     'KB_JB838_1888-09-02_01-00001.txt',\n",
      "     'KB_JB838_1888-09-08_01-00003.txt',\n",
      "     'KB_JB838_1888-09-20_01-00002.txt',\n",
      "     'KB_JB838_1888-09-22_01-00002.txt',\n",
      "     'KB_JB838_1888-09-30_01-00007.txt',\n",
      "     'KB_JB838_1888-10-01_01-00002.txt',\n",
      "     'KB_JB838_1888-10-11_01-00007.txt',\n",
      "     'KB_JB838_1888-10-12_01-00002.txt',\n",
      "     'KB_JB838_1888-10-13_01-00005.txt',\n",
      "     'KB_JB838_1888-10-14_01-00001.txt',\n",
      "     'KB_JB838_1888-10-18_01-00003.txt',\n",
      "     'KB_JB838_1888-10-20_01-00002.txt',\n",
      "     'KB_JB838_1888-10-20_01-00005.txt',\n",
      "     'KB_JB838_1888-10-25_01-00007.txt',\n",
      "     'KB_JB838_1888-10-27_01-00002.txt',\n",
      "     'KB_JB838_1888-10-28_01-00003.txt',\n",
      "     'KB_JB838_1888-11-01_01-00005.txt',\n",
      "     'KB_JB838_1888-11-04_01-00007.txt',\n",
      "     'KB_JB838_1888-11-05_01-00003.txt',\n",
      "     'KB_JB838_1888-11-14_01-00003.txt',\n",
      "     'KB_JB838_1888-11-17_01-00002.txt',\n",
      "     'KB_JB838_1888-11-18_01-00001.txt',\n",
      "     'KB_JB838_1888-11-21_01-00003.txt',\n",
      "     'KB_JB838_1888-11-29_01-00003.txt',\n",
      "     'KB_JB838_1888-12-09_01-00005.txt',\n",
      "     'KB_JB838_1888-12-28_01-00002.txt',\n",
      "     'KB_JB838_1889-01-06_01-00004.txt',\n",
      "     'KB_JB838_1889-01-06_01-00005.txt',\n",
      "     'KB_JB838_1889-01-07_01-00003.txt',\n",
      "     'KB_JB838_1889-01-11_01-00001.txt',\n",
      "     'KB_JB838_1889-01-14_01-00003.txt',\n",
      "     'KB_JB838_1889-01-15_01-00002.txt',\n",
      "     'KB_JB838_1889-01-22_01-00001.txt',\n",
      "     'KB_JB838_1889-01-24_01-00001.txt',\n",
      "     'KB_JB838_1889-01-27_01-00001.txt',\n",
      "     'KB_JB838_1889-02-01_01-00003.txt',\n",
      "     'KB_JB838_1889-02-07_01-00003.txt',\n",
      "     'KB_JB838_1889-02-09_01-00001.txt',\n",
      "     'KB_JB838_1889-02-10_01-00004.txt',\n",
      "     'KB_JB838_1889-02-11_01-00001.txt',\n",
      "     'KB_JB838_1889-02-16_01-00001.txt',\n",
      "     'KB_JB838_1889-02-28_01-00001.txt',\n",
      "     'KB_JB838_1889-03-20_01-00003.txt',\n",
      "     'KB_JB838_1889-03-21_01-00001.txt',\n",
      "     'KB_JB838_1889-03-22_01-00001.txt',\n",
      "     'KB_JB838_1889-04-22_01-00003.txt',\n",
      "     'KB_JB838_1889-05-07_01-00001.txt',\n",
      "     'KB_JB838_1889-05-13_01-00001.txt',\n",
      "     'KB_JB838_1889-05-14_01-00001.txt',\n",
      "     'KB_JB838_1889-05-17_01-00003.txt',\n",
      "     'KB_JB838_1889-05-18_01-00001.txt',\n",
      "     'KB_JB838_1889-05-19_01-00001.txt',\n",
      "     'KB_JB838_1889-05-20_01-00002.txt',\n",
      "     'KB_JB838_1889-05-27_01-00003.txt',\n",
      "     'KB_JB838_1889-06-03_01-00003.txt',\n",
      "     'KB_JB838_1889-06-06_01-00002.txt',\n",
      "     'KB_JB838_1889-06-07_01-00003.txt',\n",
      "     'KB_JB838_1889-07-04_01-00001.txt',\n",
      "     'KB_JB838_1889-07-19_01-00003.txt',\n",
      "     'KB_JB838_1889-07-22_01-00003.txt',\n",
      "     'KB_JB838_1889-07-24_01-00003.txt',\n",
      "     'KB_JB838_1889-07-31_01-00003.txt',\n",
      "     'KB_JB838_1889-08-01_01-00002.txt',\n",
      "     'KB_JB838_1889-08-06_01-00003.txt',\n",
      "     'KB_JB838_1889-08-11_01-00003.txt',\n",
      "     'KB_JB838_1889-08-25_01-00001.txt',\n",
      "     'KB_JB838_1889-08-29_01-00001.txt',\n",
      "     'KB_JB838_1889-08-29_01-00003.txt',\n",
      "     'KB_JB838_1889-09-04_01-00001.txt',\n",
      "     'KB_JB838_1889-09-07_01-00003.txt',\n",
      "     'KB_JB838_1889-09-09_01-00002.txt',\n",
      "     'KB_JB838_1889-09-11_01-00002.txt',\n",
      "     'KB_JB838_1889-09-21_01-00003.txt',\n",
      "     'KB_JB838_1889-09-24_01-00003.txt',\n",
      "     'KB_JB838_1889-10-07_01-00002.txt',\n",
      "     'KB_JB838_1889-10-14_01-00001.txt',\n",
      "     'KB_JB838_1889-10-19_01-00001.txt',\n",
      "     'KB_JB838_1889-10-21_01-00002.txt',\n",
      "     'KB_JB838_1889-10-24_01-00003.txt',\n",
      "     'KB_JB838_1889-10-28_01-00003.txt',\n",
      "     'KB_JB838_1889-10-30_01-00003.txt',\n",
      "     'KB_JB838_1889-11-02_01-00006.txt',\n",
      "     'KB_JB838_1889-11-14_01-00002.txt',\n",
      "     'KB_JB838_1889-11-22_01-00003.txt',\n",
      "     'KB_JB838_1889-11-23_01-00001.txt',\n",
      "     'KB_JB838_1889-11-28_01-00002.txt',\n",
      "     'KB_JB838_1889-12-03_01-00001.txt',\n",
      "     'KB_JB838_1889-12-05_01-00002.txt',\n",
      "     'KB_JB838_1889-12-05_01-00003.txt',\n",
      "     'KB_JB838_1889-12-10_01-00001.txt',\n",
      "     'KB_JB838_1889-12-11_01-00003.txt',\n",
      "     'KB_JB838_1889-12-12_01-00002.txt',\n",
      "     'KB_JB838_1889-12-13_01-00003.txt',\n",
      "     'KB_JB838_1889-12-14_01-00001.txt'],\n",
      " 1: ['KB_JB838_1887-12-22_01-00004.txt',\n",
      "     'KB_JB838_1887-12-22_01-00005.txt',\n",
      "     'KB_JB838_1887-12-24_01-00003.txt',\n",
      "     'KB_JB838_1887-12-24_01-00004.txt',\n",
      "     'KB_JB838_1887-12-25_01-00004.txt',\n",
      "     'KB_JB838_1887-12-26_01-00004.txt',\n",
      "     'KB_JB838_1887-12-28_01-00004.txt',\n",
      "     'KB_JB838_1887-12-29_01-00004.txt',\n",
      "     'KB_JB838_1887-12-30_01-00004.txt',\n",
      "     'KB_JB838_1887-12-31_01-00004.txt',\n",
      "     'KB_JB838_1888-02-06_01-00004.txt',\n",
      "     'KB_JB838_1888-02-09_01-00004.txt',\n",
      "     'KB_JB838_1888-02-11_01-00004.txt',\n",
      "     'KB_JB838_1888-02-15_01-00004.txt',\n",
      "     'KB_JB838_1888-02-26_01-00004.txt',\n",
      "     'KB_JB838_1888-04-04_01-00004.txt',\n",
      "     'KB_JB838_1888-04-18_01-00004.txt',\n",
      "     'KB_JB838_1888-05-09_01-00004.txt',\n",
      "     'KB_JB838_1888-05-27_01-00004.txt',\n",
      "     'KB_JB838_1888-07-21_01-00004.txt',\n",
      "     'KB_JB838_1888-07-31_01-00004.txt',\n",
      "     'KB_JB838_1888-08-08_01-00004.txt',\n",
      "     'KB_JB838_1888-09-24_01-00004.txt',\n",
      "     'KB_JB838_1888-09-25_01-00004.txt',\n",
      "     'KB_JB838_1888-09-30_01-00004.txt',\n",
      "     'KB_JB838_1888-10-04_01-00004.txt',\n",
      "     'KB_JB838_1888-10-06_01-00008.txt',\n",
      "     'KB_JB838_1888-10-07_01-00005.txt',\n",
      "     'KB_JB838_1888-10-11_01-00008.txt',\n",
      "     'KB_JB838_1888-11-02_01-00008.txt',\n",
      "     'KB_JB838_1888-11-12_01-00004.txt',\n",
      "     'KB_JB838_1888-11-29_01-00004.txt',\n",
      "     'KB_JB838_1888-12-01_01-00004.txt',\n",
      "     'KB_JB838_1888-12-19_01-00004.txt',\n",
      "     'KB_JB838_1889-01-17_01-00004.txt',\n",
      "     'KB_JB838_1889-02-01_01-00004.txt',\n",
      "     'KB_JB838_1889-03-02_01-00004.txt',\n",
      "     'KB_JB838_1889-03-08_01-00004.txt',\n",
      "     'KB_JB838_1889-03-09_01-00004.txt',\n",
      "     'KB_JB838_1889-03-13_01-00004.txt',\n",
      "     'KB_JB838_1889-03-18_01-00004.txt',\n",
      "     'KB_JB838_1889-03-28_01-00004.txt',\n",
      "     'KB_JB838_1889-03-29_01-00004.txt',\n",
      "     'KB_JB838_1889-04-26_01-00004.txt',\n",
      "     'KB_JB838_1889-04-27_01-00004.txt',\n",
      "     'KB_JB838_1889-05-02_01-00004.txt',\n",
      "     'KB_JB838_1889-05-04_01-00004.txt',\n",
      "     'KB_JB838_1889-05-12_01-00008.txt',\n",
      "     'KB_JB838_1889-05-13_01-00004.txt',\n",
      "     'KB_JB838_1889-05-27_01-00004.txt',\n",
      "     'KB_JB838_1889-05-28_01-00004.txt',\n",
      "     'KB_JB838_1889-06-23_01-00004.txt',\n",
      "     'KB_JB838_1889-06-26_01-00004.txt',\n",
      "     'KB_JB838_1889-07-09_01-00004.txt',\n",
      "     'KB_JB838_1889-07-22_01-00004.txt',\n",
      "     'KB_JB838_1889-07-25_01-00004.txt',\n",
      "     'KB_JB838_1889-08-19_01-00004.txt',\n",
      "     'KB_JB838_1889-08-25_01-00004.txt',\n",
      "     'KB_JB838_1889-08-30_01-00004.txt',\n",
      "     'KB_JB838_1889-09-05_01-00004.txt',\n",
      "     'KB_JB838_1889-09-15_01-00003.txt',\n",
      "     'KB_JB838_1889-10-10_01-00004.txt',\n",
      "     'KB_JB838_1889-10-19_01-00004.txt',\n",
      "     'KB_JB838_1889-11-06_01-00004.txt',\n",
      "     'KB_JB838_1889-12-17_01-00004.txt',\n",
      "     'KB_JB838_1889-12-31_01-00004.txt']}\n"
     ]
    }
   ],
   "source": [
    "pprint(dict(clustering))"
   ]
  },
  {
   "cell_type": "markdown",
   "metadata": {},
   "source": [
    "## Visualiser les Clusters"
   ]
  },
  {
   "cell_type": "code",
   "execution_count": 43,
   "metadata": {},
   "outputs": [],
   "source": [
    "# Réduire les vecteurs à 2 dimensions à l'aide de l'algorithme PCA\n",
    "pca = PCA(n_components=2)\n",
    "reduced_vectors = pca.fit_transform(tfidf_vectors.toarray())"
   ]
  },
  {
   "cell_type": "code",
   "execution_count": 44,
   "metadata": {},
   "outputs": [
    {
     "data": {
      "text/plain": [
       "array([[-0.23650836, -0.16865118],\n",
       "       [-0.23385747, -0.19084202],\n",
       "       [-0.2512002 ,  0.81912455],\n",
       "       [ 0.23558554,  0.00096393],\n",
       "       [ 0.15716509, -0.00993538],\n",
       "       [-0.26228059,  0.81144278],\n",
       "       [-0.22187818, -0.17214269],\n",
       "       [-0.07704543, -0.00730794],\n",
       "       [-0.23833334, -0.16995423],\n",
       "       [-0.23331123, -0.15747133]])"
      ]
     },
     "execution_count": 44,
     "metadata": {},
     "output_type": "execute_result"
    }
   ],
   "source": [
    "reduced_vectors[:10]"
   ]
  },
  {
   "cell_type": "markdown",
   "metadata": {},
   "source": [
    "## Générer un plot"
   ]
  },
  {
   "cell_type": "code",
   "execution_count": 45,
   "metadata": {},
   "outputs": [
    {
     "data": {
      "text/plain": [
       "<matplotlib.legend.Legend at 0x1deedc502e0>"
      ]
     },
     "execution_count": 45,
     "metadata": {},
     "output_type": "execute_result"
    },
    {
     "data": {
      "image/png": "[encoded data removed]",
      "text/plain": [
       "<Figure size 1000x1000 with 1 Axes>"
      ]
     },
     "metadata": {},
     "output_type": "display_data"
    }
   ],
   "source": [
    "x_axis = reduced_vectors[:, 0]\n",
    "y_axis = reduced_vectors[:, 1]\n",
    "\n",
    "plt.figure(figsize=(10,10))\n",
    "scatter = plt.scatter(x_axis, y_axis, s=100, c=clusters)\n",
    "\n",
    "# Ajouter les centroïdes\n",
    "centroids = pca.transform(km_model.cluster_centers_)\n",
    "plt.scatter(centroids[:, 0], centroids[:, 1],  marker = \"x\", s=100, linewidths = 2, color='black')\n",
    "\n",
    "# Ajouter la légende\n",
    "plt.legend(handles=scatter.legend_elements()[0], labels=set(clusters), title=\"Clusters\")"
   ]
  },
  {
   "cell_type": "markdown",
   "metadata": {},
   "source": [
    "# Word Embeddings : le modèle Word2Vec"
   ]
  },
  {
   "cell_type": "code",
   "execution_count": 46,
   "metadata": {},
   "outputs": [],
   "source": [
    "#Importation des librairies\n",
    "import sys\n",
    "\n",
    "from gensim.models.phrases import Phrases, Phraser\n",
    "from gensim.models import Word2Vec\n",
    "\n",
    "import nltk\n",
    "from nltk.tokenize import wordpunct_tokenize\n",
    "from unidecode import unidecode"
   ]
  },
  {
   "cell_type": "markdown",
   "metadata": {},
   "source": [
    "## Chargement et traitement des phrases du corpus"
   ]
  },
  {
   "cell_type": "code",
   "execution_count": 47,
   "metadata": {},
   "outputs": [],
   "source": [
    "# Création d'un objet qui *streame* les lignes d'un fichier pour économiser de la RAM\n",
    "class MySentences(object):\n",
    "    \"\"\"Tokenize and Lemmatize sentences\"\"\"\n",
    "    def __init__(self, filename):\n",
    "        self.filename = filename\n",
    "\n",
    "    def __iter__(self):\n",
    "        for line in open(self.filename, encoding='utf-8', errors=\"backslashreplace\"):\n",
    "            yield [unidecode(w.lower()) for w in wordpunct_tokenize(line)]"
   ]
  },
  {
   "cell_type": "code",
   "execution_count": 48,
   "metadata": {},
   "outputs": [],
   "source": [
    "infile = f\"../data/sents.txt\"\n",
    "sentences = MySentences(infile)"
   ]
  },
  {
   "cell_type": "code",
   "execution_count": 49,
   "metadata": {},
   "outputs": [],
   "source": [
    "#Détection des bigrammes\n",
    "bigram_phrases = Phrases(sentences)"
   ]
  },
  {
   "cell_type": "code",
   "execution_count": 50,
   "metadata": {},
   "outputs": [
    {
     "data": {
      "text/plain": [
       "dict"
      ]
     },
     "execution_count": 50,
     "metadata": {},
     "output_type": "execute_result"
    }
   ],
   "source": [
    "type(bigram_phrases.vocab)"
   ]
  },
  {
   "cell_type": "code",
   "execution_count": 52,
   "metadata": {},
   "outputs": [
    {
     "data": {
      "text/plain": [
       "15850647"
      ]
     },
     "execution_count": 52,
     "metadata": {},
     "output_type": "execute_result"
    }
   ],
   "source": [
    "#Afficher le nombre de termes (Clés) observés dans le corpus\n",
    "len(bigram_phrases.vocab.keys())"
   ]
  },
  {
   "cell_type": "code",
   "execution_count": 57,
   "metadata": {},
   "outputs": [
    {
     "name": "stdout",
     "output_type": "stream",
     "text": [
      "eleves_de\n"
     ]
    }
   ],
   "source": [
    "#Prenons une Clé au hasard\n",
    "key_ = list(bigram_phrases.vocab.keys())[1000]\n",
    "print(key_)"
   ]
  },
  {
   "cell_type": "code",
   "execution_count": 58,
   "metadata": {},
   "outputs": [
    {
     "data": {
      "text/plain": [
       "794"
      ]
     },
     "execution_count": 58,
     "metadata": {},
     "output_type": "execute_result"
    }
   ],
   "source": [
    "bigram_phrases.vocab[key_]"
   ]
  },
  {
   "cell_type": "code",
   "execution_count": 59,
   "metadata": {},
   "outputs": [],
   "source": [
    "bigram_phraser = Phraser(phrases_model=bigram_phrases)"
   ]
  },
  {
   "cell_type": "markdown",
   "metadata": {},
   "source": [
    "### Extraction des trigrams"
   ]
  },
  {
   "cell_type": "code",
   "execution_count": 60,
   "metadata": {},
   "outputs": [],
   "source": [
    "trigram_phrases = Phrases(bigram_phraser[sentences])"
   ]
  },
  {
   "cell_type": "code",
   "execution_count": 61,
   "metadata": {},
   "outputs": [],
   "source": [
    "trigram_phraser = Phraser(phrases_model=trigram_phrases)"
   ]
  },
  {
   "cell_type": "markdown",
   "metadata": {},
   "source": [
    "# Création d'un corpus d'unigrams, bigrams, trigrams"
   ]
  },
  {
   "cell_type": "code",
   "execution_count": 62,
   "metadata": {},
   "outputs": [],
   "source": [
    "corpus = list(trigram_phraser[bigram_phraser[sentences]])"
   ]
  },
  {
   "cell_type": "code",
   "execution_count": null,
   "metadata": {},
   "outputs": [],
   "source": [
    "print(corpus[:100])"
   ]
  },
  {
   "cell_type": "markdown",
   "metadata": {},
   "source": [
    "## Entrainement d'un modèle Word2Vec sur ce corpus"
   ]
  },
  {
   "cell_type": "code",
   "execution_count": null,
   "metadata": {},
   "outputs": [],
   "source": [
    "%%time\n",
    "model = Word2Vec(\n",
    "    corpus, # On passe le corpus de ngrams que nous venons de créer\n",
    "    vector_size=32, # Le nombre de dimensions dans lesquelles le contexte des mots devra être réduit, aka. vector_size\n",
    "    window=5, # La taille du \"contexte\", ici 5 mots avant et après le mot observé\n",
    "    min_count=5, # On ignore les mots qui n'apparaissent pas au moins 5 fois dans le corpus\n",
    "    workers=4, # Permet de paralléliser l'entraînement du modèle en 4 threads\n",
    "    epochs=5 # Nombre d'itérations du réseau de neurones sur le jeu de données pour ajuster les paramètres avec la descente de gradient, aka. epochs.\n",
    ")"
   ]
  },
  {
   "cell_type": "markdown",
   "metadata": {},
   "source": [
    "### Sauver le modèle dans un fichier"
   ]
  },
  {
   "cell_type": "code",
   "execution_count": null,
   "metadata": {},
   "outputs": [],
   "source": [
    "outfile = f\"../data/newspapers.model\"\n",
    "model.save(outfile)"
   ]
  },
  {
   "cell_type": "markdown",
   "metadata": {},
   "source": [
    "## Explorer le modèle"
   ]
  },
  {
   "cell_type": "code",
   "execution_count": null,
   "metadata": {},
   "outputs": [],
   "source": []
  }
 ],
 "metadata": {
  "kernelspec": {
   "display_name": "Python 3.10.7 ('tac_venv': venv)",
   "language": "python",
   "name": "python3"
  },
  "language_info": {
   "codemirror_mode": {
    "name": "ipython",
    "version": 3
   },
   "file_extension": ".py",
   "mimetype": "text/x-python",
   "name": "python",
   "nbconvert_exporter": "python",
   "pygments_lexer": "ipython3",
   "version": "3.10.7"
  },
  "orig_nbformat": 4,
  "vscode": {
   "interpreter": {
    "hash": "4a4158a1d27bb34dbff8b699b1a83206a38e7c1399f365a62315d109c5919625"
   }
  }
 },
 "nbformat": 4,
 "nbformat_minor": 2
}
