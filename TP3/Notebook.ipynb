{
 "cells": [
  {
   "cell_type": "code",
   "execution_count": 1,
   "metadata": {},
   "outputs": [],
   "source": [
    "#Importation des librairies\n",
    "import collections\n",
    "import os\n",
    "import string\n",
    "import sys\n",
    "\n",
    "import pandas as pd\n",
    "from nltk import word_tokenize\n",
    "from nltk.corpus import stopwords\n",
    "from pprint import pprint\n",
    "from sklearn.cluster import KMeans\n",
    "from sklearn.feature_extraction.text import TfidfVectorizer\n",
    "from sklearn.decomposition import PCA\n",
    "import numpy as np\n",
    "import matplotlib.pyplot as plt\n",
    "from scipy.spatial.distance import cosine"
   ]
  },
  {
   "cell_type": "code",
   "execution_count": 2,
   "metadata": {},
   "outputs": [
    {
     "name": "stderr",
     "output_type": "stream",
     "text": [
      "[nltk_data] Downloading package punkt to\n",
      "[nltk_data]     C:\\Users\\Kilia\\AppData\\Roaming\\nltk_data...\n",
      "[nltk_data]   Package punkt is already up-to-date!\n"
     ]
    },
    {
     "data": {
      "text/plain": [
       "True"
      ]
     },
     "execution_count": 2,
     "metadata": {},
     "output_type": "execute_result"
    }
   ],
   "source": [
    "import nltk\n",
    "\n",
    "nltk.download('punkt')"
   ]
  },
  {
   "cell_type": "code",
   "execution_count": 3,
   "metadata": {},
   "outputs": [],
   "source": [
    "data_path = \"../data/txt/\""
   ]
  },
  {
   "cell_type": "code",
   "execution_count": 6,
   "metadata": {},
   "outputs": [],
   "source": [
    "#choisir une décénie\n",
    "DECADE = '1880'"
   ]
  },
  {
   "cell_type": "code",
   "execution_count": 7,
   "metadata": {},
   "outputs": [],
   "source": [
    "#créer une liste de textes de  tous les fichiers de la décénie 1880\n",
    "files = [f for f in sorted(os.listdir(data_path)) if f\"_{DECADE[:-1]}\" in f]"
   ]
  },
  {
   "cell_type": "code",
   "execution_count": 8,
   "metadata": {},
   "outputs": [
    {
     "data": {
      "text/plain": [
       "['KB_JB838_1887-12-22_01-00001.txt',\n",
       " 'KB_JB838_1887-12-22_01-00002.txt',\n",
       " 'KB_JB838_1887-12-22_01-00003.txt',\n",
       " 'KB_JB838_1887-12-22_01-00004.txt',\n",
       " 'KB_JB838_1887-12-22_01-00005.txt']"
      ]
     },
     "execution_count": 8,
     "metadata": {},
     "output_type": "execute_result"
    }
   ],
   "source": [
    "# Exemple de fichiers\n",
    "files[:5]"
   ]
  },
  {
   "cell_type": "code",
   "execution_count": 9,
   "metadata": {},
   "outputs": [],
   "source": [
    "texts = [open(data_path + f, \"r\", encoding=\"utf-8\").read() for f in files]"
   ]
  },
  {
   "cell_type": "code",
   "execution_count": 10,
   "metadata": {},
   "outputs": [
    {
     "data": {
      "text/plain": [
       "'ræge quotidien J00 EXEMPLAIRES distribués gratuitement ■ k . ‘ dans ilàgg;lomération bruxelloise et.en province. ï personnes habitant aux étages fenile journal contre 60 c“« par mois. fSpir est expédié en proyinôe contre t*»\"par mois, payables par trimestre. annonces, faits divers et réclames sjont reçu frie d’Isabelle ; à l’AGENCE ROSSFJl. 44. -v , et do l’Enseignement, à BraxelL annonces remises'"
      ]
     },
     "execution_count": 10,
     "metadata": {},
     "output_type": "execute_result"
    }
   ],
   "source": [
    "# Exemple de textes\n",
    "texts[0][:400]"
   ]
  },
  {
   "cell_type": "markdown",
   "metadata": {},
   "source": [
    "## Vectoriser les documents à l'aide de TF-IDF"
   ]
  },
  {
   "cell_type": "code",
   "execution_count": 11,
   "metadata": {},
   "outputs": [],
   "source": [
    "# Création d'une fonction de pré-traitement\n",
    "def preprocessing(text, stem=True):\n",
    "    \"\"\" Tokenize text and remove punctuation \"\"\"\n",
    "    text = text.translate(string.punctuation)\n",
    "    tokens = word_tokenize(text)\n",
    "    return tokens"
   ]
  },
  {
   "cell_type": "markdown",
   "metadata": {},
   "source": [
    "### Instancier le modèle TF-IDF avec ses arguments"
   ]
  },
  {
   "cell_type": "code",
   "execution_count": 12,
   "metadata": {},
   "outputs": [],
   "source": [
    "vectorizer = TfidfVectorizer(\n",
    "    tokenizer=preprocessing,\n",
    "    stop_words=stopwords.words('french'),\n",
    "    max_df=0.5,\n",
    "    min_df=0.1,\n",
    "    lowercase=True)"
   ]
  },
  {
   "cell_type": "code",
   "execution_count": 13,
   "metadata": {},
   "outputs": [],
   "source": [
    "# Construire la matrice de vecteurs à l'aide de la fonction `fit_transform`\n",
    "tfidf_vectors = vectorizer.fit_transform(texts)"
   ]
  },
  {
   "cell_type": "code",
   "execution_count": 14,
   "metadata": {},
   "outputs": [
    {
     "data": {
      "text/plain": [
       "(236, 2751)"
      ]
     },
     "execution_count": 14,
     "metadata": {},
     "output_type": "execute_result"
    }
   ],
   "source": [
    "# Détail de la matrice\n",
    "tfidf_vectors.shape"
   ]
  },
  {
   "cell_type": "code",
   "execution_count": 15,
   "metadata": {},
   "outputs": [
    {
     "data": {
      "text/plain": [
       "commis       0.173980\n",
       "capitaine    0.147061\n",
       "uno          0.147036\n",
       "décembre     0.141962\n",
       "langues      0.138614\n",
       "               ...   \n",
       "engager      0.000000\n",
       "enlevé       0.000000\n",
       "enquête      0.000000\n",
       "ensemble     0.000000\n",
       "juillet      0.000000\n",
       "Length: 2751, dtype: float64"
      ]
     },
     "execution_count": 15,
     "metadata": {},
     "output_type": "execute_result"
    }
   ],
   "source": [
    "# Imprimer le vecteur tf-IDF du premier document\n",
    "pd.Series(\n",
    "    tfidf_vectors[0].toarray()[0],\n",
    "    index=vectorizer.get_feature_names_out()\n",
    "    ).sort_values(ascending=False)"
   ]
  },
  {
   "cell_type": "code",
   "execution_count": 16,
   "metadata": {},
   "outputs": [],
   "source": [
    "# Observer les distances entre quelques vecteurs de nos documents\n",
    "tfidf_array = tfidf_vectors.toarray()"
   ]
  },
  {
   "cell_type": "code",
   "execution_count": 17,
   "metadata": {},
   "outputs": [
    {
     "data": {
      "text/plain": [
       "array([0.        , 0.        , 0.02657873, ..., 0.        , 0.03803381,\n",
       "       0.03604103])"
      ]
     },
     "execution_count": 17,
     "metadata": {},
     "output_type": "execute_result"
    }
   ],
   "source": [
    "# Vecteur du document 0\n",
    "tfidf_array[0]"
   ]
  },
  {
   "cell_type": "code",
   "execution_count": 18,
   "metadata": {},
   "outputs": [
    {
     "data": {
      "text/plain": [
       "array([0.        , 0.        , 0.02161775, ..., 0.        , 0.03093471,\n",
       "       0.        ])"
      ]
     },
     "execution_count": 18,
     "metadata": {},
     "output_type": "execute_result"
    }
   ],
   "source": [
    "# Vecteur du document 1\n",
    "tfidf_array[1]"
   ]
  },
  {
   "cell_type": "code",
   "execution_count": 19,
   "metadata": {},
   "outputs": [
    {
     "data": {
      "text/plain": [
       "array([0.        , 0.        , 0.        , ..., 0.        , 0.        ,\n",
       "       0.01069914])"
      ]
     },
     "execution_count": 19,
     "metadata": {},
     "output_type": "execute_result"
    }
   ],
   "source": [
    "# Vecteur du document 2\n",
    "tfidf_array[2]"
   ]
  },
  {
   "cell_type": "code",
   "execution_count": 20,
   "metadata": {},
   "outputs": [
    {
     "data": {
      "text/plain": [
       "array([0.       , 0.0594173, 0.       , ..., 0.       , 0.       ,\n",
       "       0.       ])"
      ]
     },
     "execution_count": 20,
     "metadata": {},
     "output_type": "execute_result"
    }
   ],
   "source": [
    "# Vecteur du document 3\n",
    "tfidf_array[3]"
   ]
  },
  {
   "cell_type": "code",
   "execution_count": 23,
   "metadata": {},
   "outputs": [
    {
     "data": {
      "text/plain": [
       "array([0., 0., 0., ..., 0., 0., 0.])"
      ]
     },
     "execution_count": 23,
     "metadata": {},
     "output_type": "execute_result"
    }
   ],
   "source": [
    "#Vecteur du document 4\n",
    "tfidf_array[4]"
   ]
  },
  {
   "cell_type": "code",
   "execution_count": 42,
   "metadata": {},
   "outputs": [
    {
     "data": {
      "text/plain": [
       "array([0., 0., 0., ..., 0., 0., 0.])"
      ]
     },
     "execution_count": 42,
     "metadata": {},
     "output_type": "execute_result"
    }
   ],
   "source": [
    "#Vecteur du document 10\n",
    "tfidf_array[10]"
   ]
  },
  {
   "cell_type": "code",
   "execution_count": 21,
   "metadata": {},
   "outputs": [
    {
     "data": {
      "text/plain": [
       "0.7179300466038534"
      ]
     },
     "execution_count": 21,
     "metadata": {},
     "output_type": "execute_result"
    }
   ],
   "source": [
    "cosine(tfidf_array[0], tfidf_array[1])"
   ]
  },
  {
   "cell_type": "code",
   "execution_count": 26,
   "metadata": {},
   "outputs": [
    {
     "data": {
      "text/plain": [
       "0.9511133965333436"
      ]
     },
     "execution_count": 26,
     "metadata": {},
     "output_type": "execute_result"
    }
   ],
   "source": [
    "cosine(tfidf_array[2], tfidf_array[3])"
   ]
  },
  {
   "cell_type": "code",
   "execution_count": 24,
   "metadata": {},
   "outputs": [
    {
     "data": {
      "text/plain": [
       "0.9516946407070003"
      ]
     },
     "execution_count": 24,
     "metadata": {},
     "output_type": "execute_result"
    }
   ],
   "source": [
    "cosine(tfidf_array[2], tfidf_array[4])"
   ]
  },
  {
   "cell_type": "code",
   "execution_count": 46,
   "metadata": {},
   "outputs": [
    {
     "data": {
      "text/plain": [
       "0.9481768120995716"
      ]
     },
     "execution_count": 46,
     "metadata": {},
     "output_type": "execute_result"
    }
   ],
   "source": [
    "cosine(tfidf_array[2], tfidf_array[10])"
   ]
  },
  {
   "cell_type": "markdown",
   "metadata": {},
   "source": [
    "## Appliquer Un algorithme de Clustering sur les vecteurs TF-IDF des documents"
   ]
  },
  {
   "cell_type": "code",
   "execution_count": 47,
   "metadata": {},
   "outputs": [],
   "source": [
    "#Définir un nombre de Clusterings \n",
    "N_CLUSTERS = 3"
   ]
  },
  {
   "cell_type": "code",
   "execution_count": 48,
   "metadata": {},
   "outputs": [],
   "source": [
    "# Instancier le modèle K-Means et ses arguments\n",
    "km_model = KMeans(n_clusters=N_CLUSTERS)"
   ]
  },
  {
   "cell_type": "code",
   "execution_count": 49,
   "metadata": {},
   "outputs": [],
   "source": [
    "# Appliquer le clustering à l'aide de la fonction `fit_predict`"
   ]
  },
  {
   "cell_type": "code",
   "execution_count": 50,
   "metadata": {},
   "outputs": [],
   "source": [
    "clusters = km_model.fit_predict(tfidf_vectors)"
   ]
  },
  {
   "cell_type": "code",
   "execution_count": 51,
   "metadata": {},
   "outputs": [],
   "source": [
    "clustering = collections.defaultdict(list)\n",
    "\n",
    "for idx, label in enumerate(clusters):\n",
    "    clustering[label].append(files[idx])"
   ]
  },
  {
   "cell_type": "code",
   "execution_count": 52,
   "metadata": {},
   "outputs": [
    {
     "name": "stdout",
     "output_type": "stream",
     "text": [
      "{0: ['KB_JB838_1887-12-22_01-00003.txt',\n",
      "     'KB_JB838_1887-12-22_01-00006.txt',\n",
      "     'KB_JB838_1887-12-25_01-00003.txt',\n",
      "     'KB_JB838_1887-12-28_01-00003.txt',\n",
      "     'KB_JB838_1887-12-29_01-00003.txt',\n",
      "     'KB_JB838_1887-12-30_01-00003.txt',\n",
      "     'KB_JB838_1887-12-31_01-00003.txt',\n",
      "     'KB_JB838_1888-01-02_01-00003.txt',\n",
      "     'KB_JB838_1888-05-18_01-00003.txt',\n",
      "     'KB_JB838_1888-06-21_01-00003.txt',\n",
      "     'KB_JB838_1888-06-30_01-00003.txt',\n",
      "     'KB_JB838_1888-07-28_01-00003.txt',\n",
      "     'KB_JB838_1888-09-08_01-00003.txt',\n",
      "     'KB_JB838_1888-10-18_01-00003.txt',\n",
      "     'KB_JB838_1888-10-28_01-00003.txt',\n",
      "     'KB_JB838_1888-11-14_01-00003.txt',\n",
      "     'KB_JB838_1888-11-21_01-00003.txt',\n",
      "     'KB_JB838_1888-11-29_01-00003.txt',\n",
      "     'KB_JB838_1889-02-07_01-00003.txt',\n",
      "     'KB_JB838_1889-03-20_01-00003.txt',\n",
      "     'KB_JB838_1889-06-07_01-00003.txt',\n",
      "     'KB_JB838_1889-07-31_01-00003.txt'],\n",
      " 1: ['KB_JB838_1887-12-22_01-00001.txt',\n",
      "     'KB_JB838_1887-12-22_01-00002.txt',\n",
      "     'KB_JB838_1887-12-23_01-00001.txt',\n",
      "     'KB_JB838_1887-12-23_01-00002.txt',\n",
      "     'KB_JB838_1887-12-24_01-00001.txt',\n",
      "     'KB_JB838_1887-12-24_01-00002.txt',\n",
      "     'KB_JB838_1887-12-25_01-00001.txt',\n",
      "     'KB_JB838_1887-12-25_01-00002.txt',\n",
      "     'KB_JB838_1887-12-26_01-00001.txt',\n",
      "     'KB_JB838_1887-12-26_01-00002.txt',\n",
      "     'KB_JB838_1887-12-26_01-00003.txt',\n",
      "     'KB_JB838_1887-12-28_01-00001.txt',\n",
      "     'KB_JB838_1887-12-28_01-00002.txt',\n",
      "     'KB_JB838_1887-12-29_01-00001.txt',\n",
      "     'KB_JB838_1887-12-29_01-00002.txt',\n",
      "     'KB_JB838_1887-12-30_01-00001.txt',\n",
      "     'KB_JB838_1887-12-30_01-00002.txt',\n",
      "     'KB_JB838_1887-12-31_01-00001.txt',\n",
      "     'KB_JB838_1887-12-31_01-00002.txt',\n",
      "     'KB_JB838_1888-01-05_01-00002.txt',\n",
      "     'KB_JB838_1888-01-08_01-00002.txt',\n",
      "     'KB_JB838_1888-01-12_01-00001.txt',\n",
      "     'KB_JB838_1888-01-16_01-00003.txt',\n",
      "     'KB_JB838_1888-01-20_01-00002.txt',\n",
      "     'KB_JB838_1888-01-21_01-00002.txt',\n",
      "     'KB_JB838_1888-01-26_01-00002.txt',\n",
      "     'KB_JB838_1888-01-29_01-00001.txt',\n",
      "     'KB_JB838_1888-02-05_01-00001.txt',\n",
      "     'KB_JB838_1888-02-07_01-00001.txt',\n",
      "     'KB_JB838_1888-02-11_01-00001.txt',\n",
      "     'KB_JB838_1888-02-12_01-00001.txt',\n",
      "     'KB_JB838_1888-02-13_01-00003.txt',\n",
      "     'KB_JB838_1888-02-15_01-00002.txt',\n",
      "     'KB_JB838_1888-02-23_01-00002.txt',\n",
      "     'KB_JB838_1888-02-25_01-00001.txt',\n",
      "     'KB_JB838_1888-03-02_01-00001.txt',\n",
      "     'KB_JB838_1888-03-14_01-00001.txt',\n",
      "     'KB_JB838_1888-03-16_01-00001.txt',\n",
      "     'KB_JB838_1888-03-19_01-00001.txt',\n",
      "     'KB_JB838_1888-03-22_01-00003.txt',\n",
      "     'KB_JB838_1888-04-01_01-00001.txt',\n",
      "     'KB_JB838_1888-04-01_01-00003.txt',\n",
      "     'KB_JB838_1888-04-05_01-00001.txt',\n",
      "     'KB_JB838_1888-04-06_01-00001.txt',\n",
      "     'KB_JB838_1888-04-08_01-00003.txt',\n",
      "     'KB_JB838_1888-04-18_01-00002.txt',\n",
      "     'KB_JB838_1888-04-19_01-00002.txt',\n",
      "     'KB_JB838_1888-04-22_01-00002.txt',\n",
      "     'KB_JB838_1888-04-28_01-00002.txt',\n",
      "     'KB_JB838_1888-05-01_01-00001.txt',\n",
      "     'KB_JB838_1888-05-04_01-00001.txt',\n",
      "     'KB_JB838_1888-05-07_01-00003.txt',\n",
      "     'KB_JB838_1888-05-15_01-00003.txt',\n",
      "     'KB_JB838_1888-05-24_01-00002.txt',\n",
      "     'KB_JB838_1888-06-20_01-00001.txt',\n",
      "     'KB_JB838_1888-06-22_01-00002.txt',\n",
      "     'KB_JB838_1888-07-01_01-00003.txt',\n",
      "     'KB_JB838_1888-07-08_01-00001.txt',\n",
      "     'KB_JB838_1888-07-15_01-00002.txt',\n",
      "     'KB_JB838_1888-08-22_01-00001.txt',\n",
      "     'KB_JB838_1888-08-23_01-00001.txt',\n",
      "     'KB_JB838_1888-08-28_01-00003.txt',\n",
      "     'KB_JB838_1888-08-29_01-00002.txt',\n",
      "     'KB_JB838_1888-09-01_01-00001.txt',\n",
      "     'KB_JB838_1888-09-02_01-00001.txt',\n",
      "     'KB_JB838_1888-09-20_01-00002.txt',\n",
      "     'KB_JB838_1888-09-22_01-00002.txt',\n",
      "     'KB_JB838_1888-09-30_01-00007.txt',\n",
      "     'KB_JB838_1888-10-01_01-00002.txt',\n",
      "     'KB_JB838_1888-10-11_01-00007.txt',\n",
      "     'KB_JB838_1888-10-12_01-00002.txt',\n",
      "     'KB_JB838_1888-10-13_01-00005.txt',\n",
      "     'KB_JB838_1888-10-14_01-00001.txt',\n",
      "     'KB_JB838_1888-10-20_01-00002.txt',\n",
      "     'KB_JB838_1888-10-20_01-00005.txt',\n",
      "     'KB_JB838_1888-10-25_01-00007.txt',\n",
      "     'KB_JB838_1888-10-27_01-00002.txt',\n",
      "     'KB_JB838_1888-11-01_01-00005.txt',\n",
      "     'KB_JB838_1888-11-04_01-00007.txt',\n",
      "     'KB_JB838_1888-11-05_01-00003.txt',\n",
      "     'KB_JB838_1888-11-17_01-00002.txt',\n",
      "     'KB_JB838_1888-11-18_01-00001.txt',\n",
      "     'KB_JB838_1888-12-09_01-00005.txt',\n",
      "     'KB_JB838_1888-12-28_01-00002.txt',\n",
      "     'KB_JB838_1889-01-06_01-00004.txt',\n",
      "     'KB_JB838_1889-01-06_01-00005.txt',\n",
      "     'KB_JB838_1889-01-07_01-00003.txt',\n",
      "     'KB_JB838_1889-01-11_01-00001.txt',\n",
      "     'KB_JB838_1889-01-14_01-00003.txt',\n",
      "     'KB_JB838_1889-01-15_01-00002.txt',\n",
      "     'KB_JB838_1889-01-22_01-00001.txt',\n",
      "     'KB_JB838_1889-01-24_01-00001.txt',\n",
      "     'KB_JB838_1889-01-27_01-00001.txt',\n",
      "     'KB_JB838_1889-02-01_01-00003.txt',\n",
      "     'KB_JB838_1889-02-09_01-00001.txt',\n",
      "     'KB_JB838_1889-02-10_01-00004.txt',\n",
      "     'KB_JB838_1889-02-11_01-00001.txt',\n",
      "     'KB_JB838_1889-02-16_01-00001.txt',\n",
      "     'KB_JB838_1889-02-28_01-00001.txt',\n",
      "     'KB_JB838_1889-03-21_01-00001.txt',\n",
      "     'KB_JB838_1889-03-22_01-00001.txt',\n",
      "     'KB_JB838_1889-04-22_01-00003.txt',\n",
      "     'KB_JB838_1889-05-07_01-00001.txt',\n",
      "     'KB_JB838_1889-05-13_01-00001.txt',\n",
      "     'KB_JB838_1889-05-14_01-00001.txt',\n",
      "     'KB_JB838_1889-05-17_01-00003.txt',\n",
      "     'KB_JB838_1889-05-18_01-00001.txt',\n",
      "     'KB_JB838_1889-05-19_01-00001.txt',\n",
      "     'KB_JB838_1889-05-20_01-00002.txt',\n",
      "     'KB_JB838_1889-05-27_01-00003.txt',\n",
      "     'KB_JB838_1889-06-03_01-00003.txt',\n",
      "     'KB_JB838_1889-06-06_01-00002.txt',\n",
      "     'KB_JB838_1889-07-04_01-00001.txt',\n",
      "     'KB_JB838_1889-07-19_01-00003.txt',\n",
      "     'KB_JB838_1889-07-22_01-00003.txt',\n",
      "     'KB_JB838_1889-07-24_01-00003.txt',\n",
      "     'KB_JB838_1889-08-01_01-00002.txt',\n",
      "     'KB_JB838_1889-08-06_01-00003.txt',\n",
      "     'KB_JB838_1889-08-11_01-00003.txt',\n",
      "     'KB_JB838_1889-08-25_01-00001.txt',\n",
      "     'KB_JB838_1889-08-29_01-00001.txt',\n",
      "     'KB_JB838_1889-08-29_01-00003.txt',\n",
      "     'KB_JB838_1889-09-04_01-00001.txt',\n",
      "     'KB_JB838_1889-09-07_01-00003.txt',\n",
      "     'KB_JB838_1889-09-09_01-00002.txt',\n",
      "     'KB_JB838_1889-09-11_01-00002.txt',\n",
      "     'KB_JB838_1889-09-21_01-00003.txt',\n",
      "     'KB_JB838_1889-09-24_01-00003.txt',\n",
      "     'KB_JB838_1889-10-07_01-00002.txt',\n",
      "     'KB_JB838_1889-10-14_01-00001.txt',\n",
      "     'KB_JB838_1889-10-19_01-00001.txt',\n",
      "     'KB_JB838_1889-10-21_01-00002.txt',\n",
      "     'KB_JB838_1889-10-24_01-00003.txt',\n",
      "     'KB_JB838_1889-10-28_01-00003.txt',\n",
      "     'KB_JB838_1889-10-30_01-00003.txt',\n",
      "     'KB_JB838_1889-11-02_01-00006.txt',\n",
      "     'KB_JB838_1889-11-14_01-00002.txt',\n",
      "     'KB_JB838_1889-11-22_01-00003.txt',\n",
      "     'KB_JB838_1889-11-23_01-00001.txt',\n",
      "     'KB_JB838_1889-11-28_01-00002.txt',\n",
      "     'KB_JB838_1889-12-03_01-00001.txt',\n",
      "     'KB_JB838_1889-12-05_01-00002.txt',\n",
      "     'KB_JB838_1889-12-05_01-00003.txt',\n",
      "     'KB_JB838_1889-12-10_01-00001.txt',\n",
      "     'KB_JB838_1889-12-11_01-00003.txt',\n",
      "     'KB_JB838_1889-12-12_01-00002.txt',\n",
      "     'KB_JB838_1889-12-13_01-00003.txt',\n",
      "     'KB_JB838_1889-12-14_01-00001.txt'],\n",
      " 2: ['KB_JB838_1887-12-22_01-00004.txt',\n",
      "     'KB_JB838_1887-12-22_01-00005.txt',\n",
      "     'KB_JB838_1887-12-24_01-00003.txt',\n",
      "     'KB_JB838_1887-12-24_01-00004.txt',\n",
      "     'KB_JB838_1887-12-25_01-00004.txt',\n",
      "     'KB_JB838_1887-12-26_01-00004.txt',\n",
      "     'KB_JB838_1887-12-28_01-00004.txt',\n",
      "     'KB_JB838_1887-12-29_01-00004.txt',\n",
      "     'KB_JB838_1887-12-30_01-00004.txt',\n",
      "     'KB_JB838_1887-12-31_01-00004.txt',\n",
      "     'KB_JB838_1888-02-06_01-00004.txt',\n",
      "     'KB_JB838_1888-02-09_01-00004.txt',\n",
      "     'KB_JB838_1888-02-11_01-00004.txt',\n",
      "     'KB_JB838_1888-02-15_01-00004.txt',\n",
      "     'KB_JB838_1888-02-26_01-00004.txt',\n",
      "     'KB_JB838_1888-04-04_01-00004.txt',\n",
      "     'KB_JB838_1888-04-18_01-00004.txt',\n",
      "     'KB_JB838_1888-05-09_01-00004.txt',\n",
      "     'KB_JB838_1888-05-27_01-00004.txt',\n",
      "     'KB_JB838_1888-07-21_01-00004.txt',\n",
      "     'KB_JB838_1888-07-31_01-00004.txt',\n",
      "     'KB_JB838_1888-08-08_01-00004.txt',\n",
      "     'KB_JB838_1888-09-24_01-00004.txt',\n",
      "     'KB_JB838_1888-09-25_01-00004.txt',\n",
      "     'KB_JB838_1888-09-30_01-00004.txt',\n",
      "     'KB_JB838_1888-10-04_01-00004.txt',\n",
      "     'KB_JB838_1888-10-06_01-00008.txt',\n",
      "     'KB_JB838_1888-10-07_01-00005.txt',\n",
      "     'KB_JB838_1888-10-11_01-00008.txt',\n",
      "     'KB_JB838_1888-11-02_01-00008.txt',\n",
      "     'KB_JB838_1888-11-12_01-00004.txt',\n",
      "     'KB_JB838_1888-11-29_01-00004.txt',\n",
      "     'KB_JB838_1888-12-01_01-00004.txt',\n",
      "     'KB_JB838_1888-12-19_01-00004.txt',\n",
      "     'KB_JB838_1889-01-17_01-00004.txt',\n",
      "     'KB_JB838_1889-02-01_01-00004.txt',\n",
      "     'KB_JB838_1889-03-02_01-00004.txt',\n",
      "     'KB_JB838_1889-03-08_01-00004.txt',\n",
      "     'KB_JB838_1889-03-09_01-00004.txt',\n",
      "     'KB_JB838_1889-03-13_01-00004.txt',\n",
      "     'KB_JB838_1889-03-18_01-00004.txt',\n",
      "     'KB_JB838_1889-03-28_01-00004.txt',\n",
      "     'KB_JB838_1889-03-29_01-00004.txt',\n",
      "     'KB_JB838_1889-04-26_01-00004.txt',\n",
      "     'KB_JB838_1889-04-27_01-00004.txt',\n",
      "     'KB_JB838_1889-05-02_01-00004.txt',\n",
      "     'KB_JB838_1889-05-04_01-00004.txt',\n",
      "     'KB_JB838_1889-05-12_01-00008.txt',\n",
      "     'KB_JB838_1889-05-13_01-00004.txt',\n",
      "     'KB_JB838_1889-05-27_01-00004.txt',\n",
      "     'KB_JB838_1889-05-28_01-00004.txt',\n",
      "     'KB_JB838_1889-06-23_01-00004.txt',\n",
      "     'KB_JB838_1889-06-26_01-00004.txt',\n",
      "     'KB_JB838_1889-07-09_01-00004.txt',\n",
      "     'KB_JB838_1889-07-22_01-00004.txt',\n",
      "     'KB_JB838_1889-07-25_01-00004.txt',\n",
      "     'KB_JB838_1889-08-19_01-00004.txt',\n",
      "     'KB_JB838_1889-08-25_01-00004.txt',\n",
      "     'KB_JB838_1889-08-30_01-00004.txt',\n",
      "     'KB_JB838_1889-09-05_01-00004.txt',\n",
      "     'KB_JB838_1889-09-15_01-00003.txt',\n",
      "     'KB_JB838_1889-10-10_01-00004.txt',\n",
      "     'KB_JB838_1889-10-19_01-00004.txt',\n",
      "     'KB_JB838_1889-11-06_01-00004.txt',\n",
      "     'KB_JB838_1889-12-17_01-00004.txt',\n",
      "     'KB_JB838_1889-12-31_01-00004.txt']}\n"
     ]
    }
   ],
   "source": [
    "pprint(dict(clustering))"
   ]
  },
  {
   "cell_type": "markdown",
   "metadata": {},
   "source": [
    "## Visualiser les Clusters"
   ]
  },
  {
   "cell_type": "code",
   "execution_count": 53,
   "metadata": {},
   "outputs": [],
   "source": [
    "# Réduire les vecteurs à 2 dimensions à l'aide de l'algorithme PCA\n",
    "pca = PCA(n_components=2)\n",
    "reduced_vectors = pca.fit_transform(tfidf_vectors.toarray())"
   ]
  },
  {
   "cell_type": "code",
   "execution_count": 54,
   "metadata": {},
   "outputs": [
    {
     "data": {
      "text/plain": [
       "array([[-0.23650836, -0.16865119],\n",
       "       [-0.23385747, -0.19084201],\n",
       "       [-0.2512002 ,  0.81912455],\n",
       "       [ 0.23558554,  0.00096394],\n",
       "       [ 0.15716509, -0.00993538],\n",
       "       [-0.26228059,  0.81144278],\n",
       "       [-0.22187818, -0.1721427 ],\n",
       "       [-0.07704543, -0.00730792],\n",
       "       [-0.23833334, -0.16995424],\n",
       "       [-0.23331123, -0.15747134]])"
      ]
     },
     "execution_count": 54,
     "metadata": {},
     "output_type": "execute_result"
    }
   ],
   "source": [
    "reduced_vectors[:10]"
   ]
  },
  {
   "cell_type": "markdown",
   "metadata": {},
   "source": [
    "## Générer un plot"
   ]
  },
  {
   "cell_type": "code",
   "execution_count": 55,
   "metadata": {},
   "outputs": [
    {
     "data": {
      "text/plain": [
       "<matplotlib.legend.Legend at 0x2eb9bea64d0>"
      ]
     },
     "execution_count": 55,
     "metadata": {},
     "output_type": "execute_result"
    },
    {
     "data": {
      "image/png": "[encoded data removed]",
      "text/plain": [
       "<Figure size 1000x1000 with 1 Axes>"
      ]
     },
     "metadata": {},
     "output_type": "display_data"
    }
   ],
   "source": [
    "x_axis = reduced_vectors[:, 0]\n",
    "y_axis = reduced_vectors[:, 1]\n",
    "\n",
    "plt.figure(figsize=(10,10))\n",
    "scatter = plt.scatter(x_axis, y_axis, s=100, c=clusters)\n",
    "\n",
    "# Ajouter les centroïdes\n",
    "centroids = pca.transform(km_model.cluster_centers_)\n",
    "plt.scatter(centroids[:, 0], centroids[:, 1],  marker = \"x\", s=100, linewidths = 2, color='black')\n",
    "\n",
    "# Ajouter la légende\n",
    "plt.legend(handles=scatter.legend_elements()[0], labels=set(clusters), title=\"Clusters\")"
   ]
  },
  {
   "cell_type": "markdown",
   "metadata": {},
   "source": [
    "# Word Embeddings : le modèle Word2Vec"
   ]
  },
  {
   "cell_type": "code",
   "execution_count": 69,
   "metadata": {},
   "outputs": [],
   "source": [
    "#Importation des librairies\n",
    "import sys\n",
    "\n",
    "from gensim.models.phrases import Phrases, Phraser\n",
    "from gensim.models import Word2Vec\n",
    "\n",
    "import nltk\n",
    "from nltk.tokenize import wordpunct_tokenize\n",
    "from unidecode import unidecode"
   ]
  },
  {
   "cell_type": "markdown",
   "metadata": {},
   "source": [
    "## Chargement et traitement des phrases du corpus"
   ]
  },
  {
   "cell_type": "code",
   "execution_count": 70,
   "metadata": {},
   "outputs": [],
   "source": [
    "# Création d'un objet qui *streame* les lignes d'un fichier pour économiser de la RAM\n",
    "class MySentences(object):\n",
    "    \"\"\"Tokenize and Lemmatize sentences\"\"\"\n",
    "    def __init__(self, filename):\n",
    "        self.filename = filename\n",
    "\n",
    "    def __iter__(self):\n",
    "        for line in open(self.filename, encoding='utf-8', errors=\"backslashreplace\"):\n",
    "            yield [unidecode(w.lower()) for w in wordpunct_tokenize(line)]"
   ]
  },
  {
   "cell_type": "code",
   "execution_count": 71,
   "metadata": {},
   "outputs": [],
   "source": [
    "infile = f\"../data/sents.txt\"\n",
    "sentences = MySentences(infile)"
   ]
  },
  {
   "cell_type": "code",
   "execution_count": 72,
   "metadata": {},
   "outputs": [],
   "source": [
    "#Détection des bigrammes\n",
    "bigram_phrases = Phrases(sentences)"
   ]
  },
  {
   "cell_type": "code",
   "execution_count": 60,
   "metadata": {},
   "outputs": [
    {
     "data": {
      "text/plain": [
       "dict"
      ]
     },
     "execution_count": 60,
     "metadata": {},
     "output_type": "execute_result"
    }
   ],
   "source": [
    "type(bigram_phrases.vocab)"
   ]
  },
  {
   "cell_type": "code",
   "execution_count": 73,
   "metadata": {},
   "outputs": [
    {
     "data": {
      "text/plain": [
       "15850647"
      ]
     },
     "execution_count": 73,
     "metadata": {},
     "output_type": "execute_result"
    }
   ],
   "source": [
    "#Afficher le nombre de termes (Clés) observés dans le corpus\n",
    "len(bigram_phrases.vocab.keys())"
   ]
  },
  {
   "cell_type": "code",
   "execution_count": 74,
   "metadata": {},
   "outputs": [
    {
     "name": "stdout",
     "output_type": "stream",
     "text": [
      "eleves_de\n"
     ]
    }
   ],
   "source": [
    "#Prenons une Clé au hasard\n",
    "key_ = list(bigram_phrases.vocab.keys())[1000]\n",
    "print(key_)"
   ]
  },
  {
   "cell_type": "code",
   "execution_count": 75,
   "metadata": {},
   "outputs": [
    {
     "data": {
      "text/plain": [
       "794"
      ]
     },
     "execution_count": 75,
     "metadata": {},
     "output_type": "execute_result"
    }
   ],
   "source": [
    "bigram_phrases.vocab[key_]"
   ]
  },
  {
   "cell_type": "code",
   "execution_count": 76,
   "metadata": {},
   "outputs": [],
   "source": [
    "bigram_phraser = Phraser(phrases_model=bigram_phrases)"
   ]
  },
  {
   "cell_type": "markdown",
   "metadata": {},
   "source": [
    "### Extraction des trigrams"
   ]
  },
  {
   "cell_type": "code",
   "execution_count": 77,
   "metadata": {},
   "outputs": [],
   "source": [
    "trigram_phrases = Phrases(bigram_phraser[sentences])"
   ]
  },
  {
   "cell_type": "code",
   "execution_count": 78,
   "metadata": {},
   "outputs": [],
   "source": [
    "trigram_phraser = Phraser(phrases_model=trigram_phrases)"
   ]
  },
  {
   "cell_type": "markdown",
   "metadata": {},
   "source": [
    "# Création d'un corpus d'unigrams, bigrams, trigrams"
   ]
  },
  {
   "cell_type": "code",
   "execution_count": 79,
   "metadata": {},
   "outputs": [],
   "source": [
    "corpus = list(trigram_phraser[bigram_phraser[sentences]])"
   ]
  },
  {
   "cell_type": "code",
   "execution_count": 80,
   "metadata": {},
   "outputs": [
    {
     "name": "stdout",
     "output_type": "stream",
     "text": [
      "[['mi', 'imnri', 'r', 'i', '<<', 'i', 'i', 'hmu', \"'\", 'i', '/', 'tx', \"-'\", 'l', ':', 'marche', 'tenu', 'hors', 'villa', ',', 'la', '9', '.'], ['--', 'u', 'a', 'ete', 'vaain', 'si', 'teicj', '>>', 'm', 'races_indigenes', 'de', 'fr', '.'], ['31', '<)', 'a', '5s', \"'\", 'k', '131', 'de', '.'], ['rasa', 'iichakdui', \"'\", 'te', ',', 'do', '(', 'r', '.', '3s0', 'h', '710', '.', 'taureaux', 'iallsenas', ',>', 'ia', 'u', '\\\\', '--', 'a', '--', ';', '0ii', '.'], ['hollandais', ',', 'dufr', '.'], ['0', '.'], ['--', 'a', '9', '.--', 'la', 'idto', '-', 'vachei', 'laitieres', ':', 'bn', 'vante', '1q', '.'], ['vendues', '3', '\\\\', 'au', 'prix', 'la', '410', 'a', '*', '<<', 'i', 'h', '\\\\;', 'genisses', ',', 'kl', '.'], [\"'.\", '9', '.'], ['i', 'l', '.', '2', 'i', '.', 'id', '.'], ['da', '370', 'i', '6lutr', '.'], ['marche', 'a', '<', 'u', 'porcs', '.'], ['--', 'categorie', 'de', 'lt', 'ilashtya', ':', \"'\", '237', 'on', 'vente', ';', 'vendus', '1', 'm', '.', 'do', \"'\", '2', 'i', '.--', 'a', ';:,', 'l', '--;', 'i', '.', 'l', '.'], ['des', 't', \"'\", 'innlrov', '-', 'i3ie', ';>>', 'vente', ',', 'vendus', '93', '.', 'de', '32', '.--', 'a', '52', '.--.'], ['xumiir', '.'], ['10', 'a', '*', 'v', '.--_froment', '>>', 'las', '190', 'kit', '..', 'fr', '.'], ['15', '.', '23', ';', 'mi', \"'\", 'te', '>>,', '--;', 'epautre', '.', 'l3', '.--', ';', 'seigle', '.'], ['14', '.', '5', '>;', 'avoine', '.'], ['10', '.', '30', ';', 'orge', '.'], ['--;_feveroles', ',', '22', '.--;_pommes', 'do', 'terre', '.'], ['g', '.--;_paille', ',', 'v', '.', '--;', 'fcin', '.', '6', '.', '50', ':', 'lioumon', ',', '--.'], ['2', \"%'\", 'ivellom', '.'], ['10', 'mv', '.'], ['--', 'froment', ',', 'las', '109_kll', '.,', '(', 'r', '.', '13', '.'], ['--', '\\\\', '--;_selgle', '.', 'ii', '.-;\\\\', '--;_avoine', ',', '16', '.', '509', '-;', 'orge', ',', '17', '30', 'j', '--,--;_escourgeon', '.'], ['#', 'inint', '-', 't', '>>*', 'o', '<<', 'd', ',', '10', 'nov', '.', '--', 'froment', 'je', 'culture', ',', 'par', '400kil', '.,', 'fr', '.'], ['10', '.--', '1', '--.--;', 'm', '.', 'commercial', ',', '16', '.'], ['--', 'a', '--.--,_seigle', '.'], ['13', '.', '50', 'a', '--;_avoine', '.'], ['10', '.', '50', 'a', '--.--;_orge', '.'], ['17', '.--', 'a', '--;_farine', 'ira', 'de', 'froment', ',', '0', '.--', 'a', '0', '.'], ['--;', 'son', 'gros', 'de', 'tco', '*', 'ment', ',', '15', '.--', 'a', '--.--.'], ['huiie', 'de', 'colza', ',', 'par', 'hcctoi', '.,', '--', 'a', '--;', 'u', '.', 'epures', ',', '--~', 'a', ';', 'huile', 'de', 'lin', '.'], ['--,--', 'a', '--;_tourteaux', 'de', 'colza', 'par', '100_kll', '.,', '--', 'a', '--;_id', '.'], ['de', 'lin', ',', '--', 'a', 'i', 'pommes', 'de', 'terre_blanches', ',', '6', '.', '3', '>>', 'a', '0', '.--.'], ['...', ',,', ',,,,', 'paille', ',', 'fi', '.', '50', 'a', '0', '.--;', 'loln', \",'\", '5', '.', '5i', ')', 'a', '0', '.--;_beurre', ',', 'le', 'kilo', '.'], ['2', '.', 'o', 'a', '0', '.--;_oeufs', ',', 'les', '26', ',', '3', '.', '30', 'a', '0', '.--;_genievre', ',', 'l', \"'\", 'uect', '.,', '--', 'a', 'esprit', ',', '0', '.--', 'a', '0', '.--.'], ['tournai', ',', '10', 'nov', '.', '--', 'froment_blaze', ',', 'l', \"'\", 'iiaetoluri', ',', 'fr', '.'], ['--.--', 'a', '--;_froment', ',--', 'u', '--;_metell', ',', '--', 'a', '--;_seigle', ',--.--', 'a', '--;_avoine', ',', '--', 'a', '--;', 'feve', '-', 'roles', ',', '--.--', 'a', '--;_beurre', ',', 'le', 'kilo', ',', '2', '.', '00', 'a', '3', ',', '10', ';', 'oeufs', ',', 'les', '26', ',', '3', '.', '70', 'u3', '.', 'c0', '.'], ['wacrofiliom', ',', '10', 'nov', '.--', 'beurre', '.', 'le', '1', '/', '3', 'il', '-,', '1', '.', '5qa', '1', '.', '60', ',', 'oeufs', ',', 'les', '26', ',', '3', '.', '99', 'a', '1', '.', '16', ';', 'lin', ',', 'les', '100_kilos', ',', '93', '.--', 'a', '145', '.--;_etoupes', ',', 'lee', '1u0', 'kii', '.,', '30', '.--', 'a', '35', '.--;_pommes', 'de', 'terre', ',', 'les', '100', '>', 'il', '.,', '3', '.--', 'a', '3', '.', '50', ';', 'jeune', 'porc', ',', 'la', 'piece', ',', '33', '.--', 'a', '50', '.--;_lapin', '.'], ['2', '.--', 'a', '3', '.', '95', ';', 'poulet', ',', '2', '.', '25', 'a', '3', '.'], ['--.'], ['vin', '-', 'e', '<<,', '10', 'nov', '.', '--', 'froment', ',', 'les', '10j', 'kll', '.,', 'fr', '.'], ['18', '.--', 'a', '19', '.', '59', ';', 'seigle', ',', '16', '.-', 'a', '16', '.', '75', ';', 'avoine', ',', '16', '.--', 'a', '16', '.', '75', ':', 'pois', '--', 'a', '--;_feveroles', ',', '--.--', 'a', '--.--;_pommes', 'de', 'terre', ',', '8', '80', 'a', 'g', '.--*,', 'beurre', ',', 'le', 'kilo', ',', '2', '.', '90', 'a', '3', '.', '20', ';', 'oeufs', ',', 'le', '(', 'iuart3', '-', 'ron', '.'], ['i', '.', '16', 'a', '4', '.', '63', '.'], ['charmanne', '.'], ['consul_general', 'de', 'belgique', 'a', 'ottawa', '(', 'canada', ').', 'a', 'ele', 'nomme_consul', 'general', 'a', 'bang_kok', '(', 'siam', '),', 'avec', 'juridiction', 'sur', 'le', 'siam', 'et', 'les', 'slrails', 'seluements', '.'], ['--', 'm', '.', 'kelels', ',', 'consul', 'de', 'belgique', 'a', 'tien', '-', 'tsin', '(', 'chine', '),', 'a', 'ele', 'nomme_consul', 'a', 'ottawa', '(', 'canada', '),', 'avec', 'juridiction', 'sur', 'la', 'federation', 'canadienne', 'et', 'ja', 'colonie', 'de', 'terre', '-', 'neuve', '.'], ['decoration', 'c', \".'\", 'v', \"'\", 'gae', '.'], ['--', 'la', '.', 'decoration_civique', 'a', 'ele', 'decernee', 'aux', 'agents', 'de', 'l', \"'\", 'administration', 'des', 'postes', ';', 'designes_ci', '-', 'apres', ',', 'savoir', ':', 'la', 'medaille', 'de', 'ire_classe', ':', 'a', 'm', '.', 'billy', '.'], ['facteur_rural', '.'], ['la', 'medaille', 'de', '2e_classe', ':', 'a', 'm', '.', 'goringy', 'facteur', 'local', '.', '.', 'armee', '.'], ['--', 'le', 'sergent', ',', 'en', 'conge_illimite', ',', 'baudouin', '\"', 'est', 'nomme', 'sous', '-', 'lieutenanl', 'payeur', 'de', 'reserve', '.'], ['notariat', '.'], ['--', 'sont_acceptees', 'les', 'demissions', 'de', 'm', '.', 'myin', '.'], ['de', 'ses_fonctions', 'de', 'notaire', 'a', 'la', 'residence', 'd', \"'\", 'anvers', ';', 'do', 'm', '.', 'jadol', ',', 'id', '.'], ['de', 'marche', '.'], ['ecole_militaire', '.'], ['--', 'sont', 'admis', 'a', 'l', \"'\", 'ecole_militaire', ',', 'en', 'qualite', 'd', \"'\", 'eleves', 'de', 'la', '57e', 'promotion', 'de', 'l', \"'\", 'infanterie', 'et', 'ao', 'la', '<', \"'\", '*', \"'\", '*', '-', '\"', 'i', 'cavalerie', ',', 'les', 'jeunes_gens', 'dont', 'les', 'noms_suivent', ':', 'hanon', 'de', 'louvet', ',', 'van_sprang', ',', 'deyloo', ',', 'petit', ',', 'champagne', '.'], ['masui', ',', 'gerard', ',', 'vanneste', ',', 'lallemand', ',', 'van', 'iioeeke', \".'\", 'rigano', '.'], ['ilendrickx', ',', 'von', 'glaboke', ',', 'sou', '-', \"'\", 'moy', '.', 'couturieaux', ',', 'lucion', ',', 'mersch', ',', 'iledo', ',', 'iloudmont', ',', 'de', 'heusch', '.'], ['terfve', '.'], ['labio', ',', 'brabant', ',', 'franckx', ',', 'foulon', ',', 'fiahiiifirh', '.'], ['simmi', '\"', 'tfannatvnin', 'fivnv', '^', 'f', 'h', '-.', 'ilu', '/', 'phnin', '.'], ['u', 'gernaert', ',', 'simon', \",'\", 'henncquin', ',', 'fcro', \"'\", 't', ',', 'g', '->', 'ile', ',', 'i', \"'\", 'orjo', 'e', \"'\", 'y', 'hannus', '.', 'noel', ',', 'flanieng', ',', 'bri', '-', 'matchovelette', ',', 'gondry', ',', 'doux', ',', 'vermeuleu', ',', 'giilo', 'gillot', ',', 'boufvin', '.'], ['borremans', '.'], ['academie_royale_flamande', 'de', 'langue', 'et', 'de', 'litterature', '.'], ['--', 'l', \"'\", 'election', 'faite', 'par', 'l', \"'\", 'academie_flamande', ',', 'dans', 'sa', 'seance', 'du', '17', 'octobre_1906', ',', 'de', 'm', '.', 'le', 'docteur', 'hugo_verriest', ',', 'a', 'ingoyghem', ',', 'en', 'qualite', 'de', 'membre_effectif', ',', 'en', '-', 'remplacement', 'de', 'feu', 'm', '.', 'janssens', ',', 'est_approuvee', '.'], ['sapeurs', '-', 'pompiers_communaux', 'armes', '.'], ['--', 'm', '.', 'pa', '*', 'njels', ',', 'sous', '-', 'fieu', 'tenant', 'au', 'corps', 'arme', 'de', 'sapeurs', '-', 'pom', '-', 'iers', 'communaux', 'de', 'schaerheek', ',', 'est', 'nomme', 'lieule', '-', 'p', 'u', 'teuant', ',-', 'en_remplacement', 'de', 'm', '.', 'verteneuil', ',', 'decede', '.'], ['enseignement_moyen', '.'], ['--', 'mme', 'schaefer', '-', 'misonne', ',.'], ['.', 'directrice', 'a', 'titre_provisoire', 'de', 'l', \"'\", 'ecole_moyenne', 'de', 'l', \"'\", 'elat', 'pour', 'alles', ',', 'a', 'jumet', ',', 'est', 'dechargee', 'des', 'fonciions', 'de', 'regente', 'd', \"'\", 'economie', 'domes', '!'], ['ique', 'a', 'l', \"'\", 'ecole', '\"', 'moyen', 'ne', 'del', \"'\", 'ktai', 'pour', 'ailes', ',', 'a', 'la', 'louviere', '.'], ['--', 'm', '.', 'barzin', 'est', 'decharge', ',', 'sur', 'sa', 'demande', ',', 'des', 'fonctions', 'de', 'regent', 'a', 'l', \"'\", 'ecole_moyenne', 'de', 'l', \"'\", 'etal', 'pour', \"'\", 'garcons', ',', 'a', 'spa', ',', 'avec', 'autorisation', 'd', \"'\", 'en', 'conserver', 'le', 'r', 'titre_honorifique', ':', 'il', 'est', 'admis', 'a', 'faire_valoir', 'ses_droits', ';', 'a', 'ja', 'pension', '.'], [';', \"'\", '-', 'r', '-', 'm', '.', 'drainer', ',', 'directeur', 'a', 'titre_provisoire', 'de', 'l', \"'\", 'ecole', 'moyenue', 'de', 'l', \"'\", 'etat', 'pour', '.', 'garcons', '^', 'a', 'wavre', ',', 'est', 'decharge', ',', 'sur', 'sa', 'demande', ',', 'des', 'fonctions', 'de', 'professeur', 'de', 'gymnastique', ',', 'en', ',', 'partage', ',', 'a', 'l', \"'\", 'ecole_moyenne', 'do', 'l', \"'\", 'etat', 'pour', 'garcons', ',', 'a', 'roeulx', '.'], ['*', 'contributions_directes', ',', 'douanes', 'et', 'accises', '.'], ['--', 'm', '.'], ['du', '-', '#', 'val', ',', 'receveur', 'des', 'contributions_directes', 'et', 'des', 'accises', 'a', 'deynze', '.', 'est', 'admis', ',', 'sur', 'sa', 'demande', ',', 'a', 'faire_valoir', 'ses_droits', 'a', 'la', 'pension', 'de', 'retraite', '.'], ['coinmission', 'tnedicale', 'provinciale', '.'], ['--', 'sont_nommes', 'membres_correspondants', 'de', 'la', 'commission_medicale', 'piminciale', 'de', 'namur', ';', 'mm', '.'], ['les', 'doctonrs', 'rolin', ',', 'u', \"'\", 'e', 'fosses', ';', 'lebrun', ',', 'de', 'ligny', ';', 'giliard', ',', 'do', 'ctiampion', ',', 'et', '.'], ['defasse', ',', 'de', 'spj', '\\\\', 'en_remplacement', 'de', 'mm', ',', 'les', 'docteurs', '.'], ['wery', ',', 'de', 'fosses', ',', 'et', 'fermine', ',', 'do', 'lignv', ',', 'demis', '-', ';', 'sionnairos', ',', 'et', 'de', 'mm', '.'], ['jes', 'docteurs', 'renard', ',', \"'\", 'de', 'champion', 'et', 'dehaybe', ',', 'de', 'spy', ',', 'decedes', '.'], ['arts', ',', 'sciences', 'et', 'lettres', 'declamation', '.', 'et', 'diction', '.'], ['*', '--', 'on', 'nous', 'demande', 'de', 'divers_cotes', 'des', 'renseignements', 'sur', 'le', 'cours', 'que', 'va', 'donner', 'm', '.', 'hittemans', '.'], ['nous', 'no', 'croyons_pouvoir', 'mieux', 'faire', 'que', 'd', \"'\", 'engager', 'les', 'interesses', 'a', 's', \"'\", 'adresser', 'a', 'l', \"'\", 'artiste', ',', 'rue', 'verhulst', ',', '6', ',', 'a', 'uccle', '.'], ['universite_libre', ',', 'rue', 'des', 'sols', '.'], ['--', 'demain_lundi', ',', 'a', 'r', 'meures', 'du', 'soir', ',', 'conference', 'par', 'm', '.', 'lameere', ':', '<<', 'la', 'fondation', '>>.'], ['universite_populaire', 'd', \"'\", 'euerbeek', '.'], ['--', 'lundi', '12', ',', 'a', '3', 'h', '.', '1', '/', '2', ',', 'au', 'local', ',', '4', ',', 'rue', 'do', 'l', \"'\", 'etang', ',', 'inauguration_solennelle', '.'], ['discours', 'de', 'm', '.', 'e', '.', 'richard', '.'], ['conference', 'de', 'xi', '.', 'ch', '.', 'buls', '.', 'sujet', ':', '<<-', 'la', 'corse', '>>.'], ['projections_lumineuses', '*', 'universite_populaire', 'de', 'saint', '-', 'josse', ',', '67', ',', 'rue', 'de', 'la', 'limite', '.'], ['demain_lundi', ',', 'a', '8', 'h', '.', '1', '/', '4', ',', 'eauserio', 'litteraire', ':', '<<', 'maxim', 'gorki', '<<.', 'lectures', '.'], ['vamicale', 'de', 'vecole', 'n_deg', '7', '.'], ['--', 'demain_lundi', ',', 'a', '8', 'h', '.', 'du', 'soir', ',', 'dans', 'le', 'preau', 'de', 'l', \"'\", 'ecole', 'n_deg', '7', ',', 'rue_haute', '225', \"'\", 'conference', 'par', 'madame', 'journaux', ':', '<<', 'de', 'la', 'grande', '-', 'chartreuse', 'a', 'ja', 'cote', 'd', \"'\", 'azur', '>>.', 'projections_lumineuses', '.'], ['foyer_intellectuel', ',', 's0', ',', 'rue', 'du', 'fort', '.'], ['--', 'demain_lundi', ',', 'a', '8b', ',,', 'm', '.', 'j', '.', 'vincent', ':', '<<', 'la', 'meteorologie', ':', 'le', 'barometre', '>>.']]\n"
     ]
    }
   ],
   "source": [
    "print(corpus[:100])"
   ]
  },
  {
   "cell_type": "markdown",
   "metadata": {},
   "source": [
    "## Entrainement d'un modèle Word2Vec sur ce corpus"
   ]
  },
  {
   "cell_type": "code",
   "execution_count": 81,
   "metadata": {},
   "outputs": [
    {
     "name": "stdout",
     "output_type": "stream",
     "text": [
      "CPU times: total: 25min 27s\n",
      "Wall time: 25min 5s\n"
     ]
    }
   ],
   "source": [
    "%%time\n",
    "model = Word2Vec(\n",
    "    corpus, # On passe le corpus de ngrams que nous venons de créer\n",
    "    vector_size=32, # Le nombre de dimensions dans lesquelles le contexte des mots devra être réduit, aka. vector_size\n",
    "    window=2, # La taille du \"contexte\", ici 2 mots avant et après le mot observé\n",
    "    min_count=5, # On ignore les mots qui n'apparaissent pas au moins 5 fois dans le corpus\n",
    "    workers=2, # Permet de paralléliser l'entraînement du modèle en 4 threads\n",
    "    epochs=4 # Nombre d'itérations du réseau de neurones sur le jeu de données pour ajuster les paramètres avec la descente de gradient, aka. epochs.\n",
    ")"
   ]
  },
  {
   "cell_type": "markdown",
   "metadata": {},
   "source": [
    "### Sauver le modèle dans un fichier"
   ]
  },
  {
   "cell_type": "code",
   "execution_count": 82,
   "metadata": {},
   "outputs": [],
   "source": [
    "outfile = f\"../data/newspapers.model\"\n",
    "model.save(outfile)"
   ]
  },
  {
   "cell_type": "markdown",
   "metadata": {},
   "source": [
    "## Explorer le modèle"
   ]
  },
  {
   "cell_type": "code",
   "execution_count": 83,
   "metadata": {},
   "outputs": [],
   "source": [
    "# Charger le modèle en mémoire\n",
    "model = Word2Vec.load(\"../data/newspapers.model\")"
   ]
  },
  {
   "cell_type": "code",
   "execution_count": 84,
   "metadata": {},
   "outputs": [
    {
     "data": {
      "text/plain": [
       "array([-0.9209766 , -1.5017217 ,  1.5979385 ,  0.10752422, -0.18113397,\n",
       "       -0.82539576, -0.646485  ,  0.2082822 ,  0.6088267 ,  0.530898  ,\n",
       "        0.59747946,  1.2978153 ,  0.83347315, -0.2896856 , -0.63917637,\n",
       "        0.5967281 ,  0.23126213, -1.1107761 ,  0.60391045,  0.30877337,\n",
       "       -0.04572865,  0.53204113,  1.4188472 ,  0.70988506,  0.1302041 ,\n",
       "       -0.82007414,  0.12429668,  3.2156541 , -0.4484554 ,  0.13061294,\n",
       "       -0.91744   , -0.42560613], dtype=float32)"
      ]
     },
     "execution_count": 84,
     "metadata": {},
     "output_type": "execute_result"
    }
   ],
   "source": [
    "# Imprimer le vecteur d'un terme\n",
    "model.wv[\"communaux\"]"
   ]
  },
  {
   "cell_type": "markdown",
   "metadata": {},
   "source": [
    " #Calculer la similarité entre deux termes"
   ]
  },
  {
   "cell_type": "code",
   "execution_count": 90,
   "metadata": {},
   "outputs": [
    {
     "data": {
      "text/plain": [
       "0.56447834"
      ]
     },
     "execution_count": 90,
     "metadata": {},
     "output_type": "execute_result"
    }
   ],
   "source": [
    "model.wv.similarity(\"douanes\", \"administration\")"
   ]
  },
  {
   "cell_type": "code",
   "execution_count": 112,
   "metadata": {},
   "outputs": [
    {
     "data": {
      "text/plain": [
       "0.42753115"
      ]
     },
     "execution_count": 112,
     "metadata": {},
     "output_type": "execute_result"
    }
   ],
   "source": [
    "model.wv.similarity(\"professeur\", \"universite_libre\")"
   ]
  },
  {
   "cell_type": "code",
   "execution_count": 93,
   "metadata": {},
   "outputs": [
    {
     "data": {
      "text/plain": [
       "0.4299595"
      ]
     },
     "execution_count": 93,
     "metadata": {},
     "output_type": "execute_result"
    }
   ],
   "source": [
    "model.wv.similarity(\"juridiction\", \"agents\")"
   ]
  },
  {
   "cell_type": "code",
   "execution_count": 99,
   "metadata": {},
   "outputs": [
    {
     "data": {
      "text/plain": [
       "0.42139554"
      ]
     },
     "execution_count": 99,
     "metadata": {},
     "output_type": "execute_result"
    }
   ],
   "source": [
    "model.wv.similarity(\"canadienne\", \"ottawa\")"
   ]
  },
  {
   "cell_type": "code",
   "execution_count": 114,
   "metadata": {},
   "outputs": [
    {
     "data": {
      "text/plain": [
       "0.48257676"
      ]
     },
     "execution_count": 114,
     "metadata": {},
     "output_type": "execute_result"
    }
   ],
   "source": [
    "model.wv.similarity(\"--;_pommes\", \"terre\")"
   ]
  },
  {
   "cell_type": "code",
   "execution_count": 116,
   "metadata": {},
   "outputs": [
    {
     "data": {
      "text/plain": [
       "0.88409704"
      ]
     },
     "execution_count": 116,
     "metadata": {},
     "output_type": "execute_result"
    }
   ],
   "source": [
    "model.wv.similarity(\"langue\", \"litterature\")"
   ]
  },
  {
   "cell_type": "markdown",
   "metadata": {},
   "source": [
    "#chercher les mots les plus proches d'un terme donné"
   ]
  },
  {
   "cell_type": "code",
   "execution_count": 85,
   "metadata": {},
   "outputs": [
    {
     "data": {
      "text/plain": [
       "[('provinciaux', 0.9242786765098572),\n",
       " ('municipaux', 0.9069733023643494),\n",
       " ('federaux', 0.8990811705589294),\n",
       " ('militaires', 0.8883243799209595),\n",
       " ('nationaux', 0.8871442079544067),\n",
       " ('principaux', 0.8857815265655518),\n",
       " ('communales', 0.8853791952133179),\n",
       " ('publics', 0.8849593997001648),\n",
       " ('adjoints', 0.8818342089653015),\n",
       " ('regionaux', 0.8815510869026184)]"
      ]
     },
     "execution_count": 85,
     "metadata": {},
     "output_type": "execute_result"
    }
   ],
   "source": [
    "model.wv.most_similar(\"communaux\", topn=10)"
   ]
  },
  {
   "cell_type": "code",
   "execution_count": 86,
   "metadata": {},
   "outputs": [
    {
     "data": {
      "text/plain": [
       "[('colonial', 0.8961623907089233),\n",
       " ('industriel', 0.8520947694778442),\n",
       " ('exclusif', 0.8425019383430481),\n",
       " ('financier', 0.8212165832519531),\n",
       " ('administratif', 0.8004991412162781),\n",
       " ('important', 0.7989554405212402),\n",
       " ('special', 0.7972767949104309),\n",
       " ('medical', 0.795788049697876),\n",
       " ('direct', 0.7834296226501465),\n",
       " ('professionnel', 0.7744525671005249)]"
      ]
     },
     "execution_count": 86,
     "metadata": {},
     "output_type": "execute_result"
    }
   ],
   "source": [
    "model.wv.most_similar(\"commercial\", topn=10)"
   ]
  },
  {
   "cell_type": "code",
   "execution_count": 117,
   "metadata": {},
   "outputs": [
    {
     "data": {
      "text/plain": [
       "[('athenee_royal', 0.9291048645973206),\n",
       " ('association_liberale', 0.9264692068099976),\n",
       " ('athenee', 0.9137592911720276),\n",
       " ('universite', 0.8999341726303101),\n",
       " ('association_catholique', 0.8834546208381653),\n",
       " ('union_athletique', 0.878878653049469),\n",
       " ('ecole_normale', 0.8689125776290894),\n",
       " ('assistance_publique', 0.8634395003318787),\n",
       " ('orphelinat', 0.8629177808761597),\n",
       " ('administration_communale', 0.8599738478660583)]"
      ]
     },
     "execution_count": 117,
     "metadata": {},
     "output_type": "execute_result"
    }
   ],
   "source": [
    "model.wv.most_similar(\"universite_libre\", topn=10)"
   ]
  },
  {
   "cell_type": "code",
   "execution_count": 97,
   "metadata": {},
   "outputs": [
    {
     "data": {
      "text/plain": [
       "[('espagnole', 0.9188292622566223),\n",
       " ('portugaise', 0.9141632914543152),\n",
       " ('mexicaine', 0.9141112565994263),\n",
       " ('roumaine', 0.9073714017868042),\n",
       " ('grecque', 0.9068703651428223),\n",
       " ('italienne', 0.9053553938865662),\n",
       " ('egyptienne', 0.9028696417808533),\n",
       " ('polonaise', 0.8984108567237854),\n",
       " ('chinoise', 0.8911156058311462),\n",
       " ('francaise', 0.8870465159416199)]"
      ]
     },
     "execution_count": 97,
     "metadata": {},
     "output_type": "execute_result"
    }
   ],
   "source": [
    "model.wv.most_similar(\"canadienne\", topn=10)"
   ]
  },
  {
   "cell_type": "code",
   "execution_count": 94,
   "metadata": {},
   "outputs": [
    {
     "name": "stdout",
     "output_type": "stream",
     "text": [
      "[('provinces', 0.7682438492774963), ('legations', 0.7307987213134766), ('avoirs', 0.712346613407135), ('etrangers', 0.7115942239761353), ('provinciaux', 0.7114353775978088), ('souscriptions', 0.7036561369895935), ('deux_flandres', 0.6962061524391174), ('delegues', 0.6957635283470154), ('fonctionnaires', 0.6934096813201904), ('autrichiens', 0.6899731159210205)]\n"
     ]
    }
   ],
   "source": [
    "# Faire des recherches complexes à travers l'espace vectoriel\n",
    "print(model.wv.most_similar(positive=['douanes', 'belgique'], negative=['canadienne']))"
   ]
  },
  {
   "cell_type": "code",
   "execution_count": 110,
   "metadata": {},
   "outputs": [
    {
     "name": "stdout",
     "output_type": "stream",
     "text": [
      "[('grenoble', 0.777327835559845), ('douai', 0.7768574357032776), ('malines', 0.7553407549858093), ('perpignan', 0.7523889541625977), ('charleroi', 0.7503430843353271), ('roubaix', 0.7497711777687073), ('verriers', 0.7479147911071777), ('kleber_piot', 0.7457864880561829), ('toulon', 0.7454814910888672), ('jemappes', 0.7452989220619202)]\n"
     ]
    }
   ],
   "source": [
    "print(model.wv.most_similar(positive=['ottawa', 'namur'], negative=['ecole_militaire']))"
   ]
  },
  {
   "cell_type": "code",
   "execution_count": 111,
   "metadata": {},
   "outputs": [
    {
     "name": "stdout",
     "output_type": "stream",
     "text": [
      "[('intellectuel', 0.767174482345581), ('imperialisme', 0.7353477478027344), ('ammoniaque', 0.7075372338294983), ('colonial', 0.707362711429596), ('effectif', 0.7054851651191711), ('espagnol', 0.6976175904273987), ('enseignement_professionnel', 0.6972361207008362), ('episcopat', 0.692575216293335), ('allemand', 0.6869814991950989), ('armement', 0.6830693483352661)]\n"
     ]
    }
   ],
   "source": [
    "print(model.wv.most_similar(positive=['commercial', 'economie'], negative=['vente']))"
   ]
  }
 ],
 "metadata": {
  "kernelspec": {
   "display_name": "Python 3.10.7 ('tac_venv': venv)",
   "language": "python",
   "name": "python3"
  },
  "language_info": {
   "codemirror_mode": {
    "name": "ipython",
    "version": 3
   },
   "file_extension": ".py",
   "mimetype": "text/x-python",
   "name": "python",
   "nbconvert_exporter": "python",
   "pygments_lexer": "ipython3",
   "version": "3.10.7"
  },
  "orig_nbformat": 4,
  "vscode": {
   "interpreter": {
    "hash": "4a4158a1d27bb34dbff8b699b1a83206a38e7c1399f365a62315d109c5919625"
   }
  }
 },
 "nbformat": 4,
 "nbformat_minor": 2
}
